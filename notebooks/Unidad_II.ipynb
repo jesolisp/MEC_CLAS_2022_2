{
  "cells": [
    {
      "cell_type": "markdown",
      "metadata": {
        "id": "view-in-github",
        "colab_type": "text"
      },
      "source": [
        "<a href=\"https://colab.research.google.com/github/jesolisp/MEC_CLAS_2022_2/blob/main/notebooks/Unidad_II.ipynb\" target=\"_parent\"><img src=\"https://colab.research.google.com/assets/colab-badge.svg\" alt=\"Open In Colab\"/></a>"
      ]
    },
    {
      "cell_type": "markdown",
      "id": "8e960e31",
      "metadata": {
        "id": "8e960e31"
      },
      "source": [
        "<img src=\"../figs/logo_ENESJ.png\" width=140 height=120 />\n",
        "\n",
        "# Mecánica clásica\n",
        "##  Semestre 2022-2 \n",
        "\n",
        "### Profr. Jesús Emmanuel Solís Pérez\n",
        "### jsolisp@unam.mx\n",
        "---"
      ]
    },
    {
      "cell_type": "markdown",
      "id": "3f5f50bd",
      "metadata": {
        "id": "3f5f50bd"
      },
      "source": [
        "# Unidad II . Cinemática\n",
        "\n",
        "La **cinemática** estudia el movimiento de los *partículas* sin estudiar las causas que originan el movimiento. Las magnitudes que define la cinemática son:\n",
        "\n",
        "* **Posición.** Lugar en el que se encuentra una partícula en un instante de tiempo $t$. \n",
        "* **Velocidad.** Variación de la posición con el tiempo.\n",
        "* **Aceleración.** Indica cuánto varía la velocidad con el paso del tiempo.\n",
        "\n",
        "El **desplazamiento** de una partícula se puede definir como el cambio de su posición en unn intervalo de tiempo. La ecuación de desplazamiento está dada como sigue:\n",
        "\n",
        "\\begin{equation}\n",
        " \\label{deltax}\n",
        " \\Delta x = x_{f} - x_{i},\n",
        "\\end{equation}\n",
        "donde $x_{i}$ denota la posición inicial, $x_{f}$ la final y $\\Delta$ el *cambio* en una cantidad.\n",
        "\n",
        "\n",
        "Recordemos que no es lo mismo desplazamiento y distancia recorrida. **Distancia** podemos definirla como la longitud de la trayectoria de una partícula. La distancia $d$ es $d>0$ mientras que el desplazamiento $\\Delta x$ puede ser $\\Delta x<0$ o $\\Delta x>0$.\n",
        "\n",
        "* Cualquier objeto que se mueva a la derecha implica $\\Delta x > 0$ (positivo)\n",
        "* Cualquier objeto que se mueva a la izquierda implica $\\Delta x < 0$ (negativo)\n",
        "\n",
        "La velocidad promedio $v_{xm}$ de una partícula está definida por la siguiente ecuación:\n",
        "\n",
        "\\begin{equation}\n",
        " v_{x_{m}} = \\frac{\\Delta x}{\\Delta t} = \\frac{x_{f} - x_{i}}{\\Delta t},\n",
        "\\end{equation}\n",
        "donde $\\Delta t$ representa el intervalo de tiempo en el cual ocurre el desplazamiento. De lo anterior, observamos que $v_{x_{m}}$ tiene dimensiones de ($L/T$), o $m\\cdot s$ en unidades del SI.\n",
        "\n",
        "Con la velocidad promedio tenemos algunos casos:\n",
        "\n",
        "* Si $x_{f}>x_{i}$, entonces $\\Delta x>0$ y $v_{xm} > 0$.\n",
        "* Si $x_{f}<x_{i}$, entonces $\\Delta x<0$ y $v_{xm} < 0$.\n",
        "\n",
        "La velocidad promedio se interpreta geométricamente dibujando un triángulo rectángulo de altura $\\Delta x$ y base $\\Delta t$. La pendiente está dada por la proporción $\\Delta x/ \\Delta t$.\n",
        "\n",
        "La rapidez promedio es una cantidad escalar que se define como la distancia total recorrida entre el intervalo de tiempo total, es decir:\n",
        "\n",
        "\\begin{equation}\n",
        " v_{m} \\equiv \\frac{d}{\\Delta t}.\n",
        "\\end{equation}\n",
        "\n",
        "**Nota.** La velocidad y rapidez promedio no son lo mismo. $v_{x_{m}}$ involucra el *desplazamiento* mientras que $v_{m}$ considera la *distancia*.\n",
        "\n",
        "---\n",
        "#### Videos de apoyo\n",
        "[Rapidez y velocidad](https://www.youtube.com/watch?v=ATaQ2JD5fd0)"
      ]
    },
    {
      "cell_type": "markdown",
      "id": "1df7696d",
      "metadata": {
        "id": "1df7696d"
      },
      "source": [
        "---\n",
        "## Ejemplo 1\n",
        "Encuentre $\\Delta x$, $v_{x_{m}}$ y $v_{m}$ de la siguiente motocicleta entre las posiciones $A$ y $G$\n",
        "\n",
        "<img src=\"../figs/ejemplo1.png\" width=640 height=420 />"
      ]
    },
    {
      "cell_type": "code",
      "execution_count": null,
      "id": "1c2aaa44",
      "metadata": {
        "id": "1c2aaa44"
      },
      "outputs": [],
      "source": [
        "import numpy as np # librería para trabajar con vectores, matrices y funciones especiales\n",
        "import matplotlib.pyplot as plt # libreria con funciones para graficar\n",
        "\n",
        "%matplotlib inline\n",
        "# modo no interactivo"
      ]
    },
    {
      "cell_type": "code",
      "execution_count": null,
      "id": "a41ff625",
      "metadata": {
        "id": "a41ff625"
      },
      "outputs": [],
      "source": [
        "t = np.linspace(0,70,1000)\n",
        "ts = np.array([0,20,30,40,50,60,70]) \n",
        "xm = np.array([50,80,50,30,0,-30,-60])\n",
        "y_int = np.interp(t,ts,xm)"
      ]
    },
    {
      "cell_type": "code",
      "execution_count": null,
      "id": "7835308f",
      "metadata": {
        "id": "7835308f"
      },
      "outputs": [],
      "source": [
        "plt.plot(t,y_int)\n",
        "plt.grid('on')\n",
        "plt.show()"
      ]
    },
    {
      "cell_type": "markdown",
      "id": "daf57a6d",
      "metadata": {
        "id": "daf57a6d"
      },
      "source": [
        "| Posición | ${\\bf t(s)}$ | ${\\bf x(m)}$ |\n",
        "|:---:|:---:|:---:|\n",
        "| A | 0 | 50 |\n",
        "| B | 20 | 80 |\n",
        "| C | 30 | 50 |\n",
        "| D | 40 | 30 |\n",
        "| E | 50 | 0 |\n",
        "| F | 60 | -30 |\n",
        "| G | 70 | -60 |"
      ]
    },
    {
      "cell_type": "markdown",
      "id": "cdee82a6",
      "metadata": {
        "id": "cdee82a6"
      },
      "source": [
        "A partir de la figura anterior, podemos notar que $x_{A} = 50$ m en $t_{A} = 0$ mientras que $x_{G} = -60$ m en $t_{G} = 70$ s. Haciendo uso de la Ec. (1), tenemos\n",
        "\n",
        "\\begin{equation}\n",
        " \\Delta x = x_{G} - x_{A} = -60 \\text{ m} - 50 \\text{ m} = -110 \\text{ m}.\n",
        "\\end{equation}\n",
        "\n",
        "1. ¿Cuál es la interpretación de este resultado?\n",
        "\n",
        "Para encontrar la $v_{x_{m}}$ aplicamos la Ec. (2), esto es:\n",
        "\n",
        "\\begin{equation}\n",
        "v_{x_{m}} = \\frac{x_{G}-x_{A}}{t_{G} - t_{A}} = \\frac{-60 \\text{ m} - 50 \\text{ m}}{70 \\text{ s} - 0 \\text{ s}} = \\frac{-110 \\text{ m}}{70 \\text{ s}} = -1.57 \\text{ m/s}.\n",
        "\\end{equation}\n",
        "\n",
        "Para encontrar la $v_{m}$ aplicamos la Ec. (3):\n",
        "\n",
        "\\begin{equation}\n",
        " v_{m} = \\frac{170 \\text{ m}}{70 \\text{ s}} = 2.42 \\text{ m/s}.\n",
        "\\end{equation}\n",
        "\n",
        "Considerando que la distancia recorrida desde $A$ a $B$ es $30$ m, y de $B$ a $G$ es $140$ m, dando un total de $170$ m."
      ]
    },
    {
      "cell_type": "markdown",
      "id": "ed6f0e29",
      "metadata": {
        "id": "ed6f0e29"
      },
      "source": [
        "---\n",
        "¿Y qué pasa si queremos conocer la velocidad de una partícula en un instante de tiempo específico?\n",
        "\n",
        "La velocidad instantánea $v_{x}$ es igual al valor límite de $\\Delta x/\\Delta t$ conforme $\\Delta t \\rightarrow 0$. *i.e.*\n",
        "\n",
        "\\begin{equation}\n",
        " v_{x} \\equiv \\lim \\limits_{\\Delta t \\rightarrow 0} \\frac{\\Delta x}{\\Delta t}.\n",
        "\\end{equation}\n",
        "\n",
        "En cálculo, este límite lo conocemos como *derivada* de $x$ respecto a $t$ cuya expresión está dada como sigue:\n",
        "\n",
        "\\begin{equation}\n",
        " v_{x} \\equiv \\lim \\limits_{\\Delta t \\rightarrow 0} \\frac{\\Delta x}{\\Delta t} = \\frac{\\mathrm{d}x}{\\mathrm{d}t}.\n",
        "\\end{equation}\n",
        "\n",
        "**Nota.** $v_{x}>0$, $v_{x}<0$ o $v_{x}=0$.\n",
        "\n",
        "Por otro lado, la **rapidez instantánea** se define como la magnitud de su velocidad instantánea."
      ]
    },
    {
      "cell_type": "markdown",
      "id": "7b0a8ec8",
      "metadata": {
        "id": "7b0a8ec8"
      },
      "source": [
        "## Ejemplo 2\n",
        "Una partícula se mueve a lo largo del eje $x$, variando su posición con el tiempo de acuerdo con la siguiente expresión $x = -4t + 2t^{2}$. Donde $x$ está en metros y $t$ está en segundos.\n",
        "\n",
        "* Determine $\\Delta x$ en los intervalos de tiempo:\n",
        "    * $t \\in [0,1]$\n",
        "    * $t \\in [1,3]$"
      ]
    },
    {
      "cell_type": "code",
      "execution_count": null,
      "id": "716ff9fb",
      "metadata": {
        "id": "716ff9fb"
      },
      "outputs": [],
      "source": [
        "t = np.linspace(0,4,100)\n",
        "x = -4*t + 2*(t**2)"
      ]
    },
    {
      "cell_type": "code",
      "execution_count": null,
      "id": "19496925",
      "metadata": {
        "id": "19496925"
      },
      "outputs": [],
      "source": [
        "%matplotlib notebook # activa el moto interactivo"
      ]
    },
    {
      "cell_type": "code",
      "execution_count": null,
      "id": "058bb51a",
      "metadata": {
        "id": "058bb51a"
      },
      "outputs": [],
      "source": [
        "plt.plot(t,x) # permite graficar una función\n",
        "plt.grid('on') # permite mostrar una cuadrícula en la figura\n",
        "plt.xlabel('t(s)') # permite poner una etiqueta sobre el eje x\n",
        "plt.ylabel('x(m)') # permite poner una etiqueta sobre el eje y\n",
        "plt.show() # muestra el gráfico"
      ]
    },
    {
      "cell_type": "markdown",
      "id": "ff5bf1f2",
      "metadata": {
        "id": "ff5bf1f2"
      },
      "source": [
        "1. Para el primer intervalo de tiempo, considere $t_{i} = t_{A}=0$ y $t_{f} = t_{B}=1$ y aplique la siguiente ecuación:\n",
        "\n",
        "\\begin{equation}\n",
        " \\Delta x \\equiv x_{f} - x_{i} = -2 m.\n",
        "\\end{equation}\n",
        "\n",
        "2. Para el primer intervalo de tiempo, considere $t_{i} = t_{A}=1$ y $t_{f} = t_{B}=3$\n",
        "\n",
        "\\begin{equation}\n",
        " \\Delta x \\equiv x_{f} - x_{i} = 8 m.\n",
        "\\end{equation}"
      ]
    },
    {
      "cell_type": "markdown",
      "id": "55fd80af",
      "metadata": {
        "id": "55fd80af"
      },
      "source": [
        "* Calcule $v_{x_{m}}$ durante estos intervalos de tiempo.\n",
        "\n",
        "1. Para el primer intervalo de tiempo, considere $\\Delta t = t_{f} - t_{i} = 1 - 0$\n",
        "\n",
        "Recordando\n",
        "\n",
        "\\begin{equation}\n",
        " v_{x_{m}} = \\frac{\\Delta x}{\\Delta t} = \\frac{-2}{1} = -2 \\text{ m/s}.\n",
        "\\end{equation}\n",
        "\n",
        "2. Para el segundo intervalo de tiempo, considere $\\Delta t = t_{f} - t_{i} = 3 - 1$\n",
        "\n",
        "\\begin{equation}\n",
        " v_{x_{m}} = \\frac{\\Delta x}{\\Delta t} = \\frac{8}{2} =  4 \\text{ m/s}.\n",
        "\\end{equation}\n"
      ]
    },
    {
      "cell_type": "markdown",
      "id": "4a7f7394",
      "metadata": {
        "id": "4a7f7394"
      },
      "source": [
        "# Tarea\n",
        "¿Cómo interpreto la velocidad promedio?"
      ]
    },
    {
      "cell_type": "markdown",
      "id": "d9636788",
      "metadata": {
        "id": "d9636788"
      },
      "source": [
        "* Encuentre $v_{x}$ de la partícula en $t = 2.5$ s.\n",
        "\n",
        "Recordemos\n",
        "\n",
        "\\begin{equation}\n",
        " v_{x} \\equiv \\lim \\limits_{\\Delta t \\rightarrow 0} \\frac{\\Delta x}{\\Delta t} = \\frac{\\mathrm{d}x}{\\mathrm{d}t} = \\left[ -4 + 4t \\right]\\vert_{t=2.5} = 6~ m/s\n",
        "\\end{equation}"
      ]
    },
    {
      "cell_type": "markdown",
      "id": "af1a1b7f",
      "metadata": {
        "id": "af1a1b7f"
      },
      "source": [
        "## Ejemplo 2a\n",
        "Una partícula se mueve a lo largo del eje $x$, variando su posición con el tiempo de acuerdo con la siguiente expresión $x = t^{5} + 4t^{3} + t$. Donde $x$ está en metros y $t$ está en segundos.\n",
        "\n",
        "* Determine $\\Delta x$ en los intervalos de tiempo:\n",
        "    * $t \\in [0,2]$\n",
        "    * $t \\in [2,5]$\n",
        "    \n",
        "* Calcule $v_{x_{m}}$\n",
        "* Calcule $v_{x}$ en $t=1$ s."
      ]
    },
    {
      "cell_type": "code",
      "execution_count": null,
      "id": "57b5687e",
      "metadata": {
        "id": "57b5687e"
      },
      "outputs": [],
      "source": [
        "# Opción 1\n",
        "x = lambda t : t**5 + 4*t**3 + t\n",
        "\n",
        "# Opción 2\n",
        "#def x(t):\n",
        "#    return t**5 + 4*t**3 + t"
      ]
    },
    {
      "cell_type": "code",
      "execution_count": null,
      "id": "c7dae0f5",
      "metadata": {
        "id": "c7dae0f5"
      },
      "outputs": [],
      "source": [
        "x(3)"
      ]
    },
    {
      "cell_type": "code",
      "execution_count": null,
      "id": "dc847c5d",
      "metadata": {
        "id": "dc847c5d"
      },
      "outputs": [],
      "source": [
        "ti = 1\n",
        "tf = 3\n",
        "xi = x(ti)\n",
        "xf = x(tf)"
      ]
    },
    {
      "cell_type": "code",
      "execution_count": null,
      "id": "7c7df186",
      "metadata": {
        "id": "7c7df186"
      },
      "outputs": [],
      "source": [
        "delta_x = xf - xi\n",
        "delta_t = tf - ti\n",
        "\n",
        "vxm = delta_x/delta_t"
      ]
    },
    {
      "cell_type": "code",
      "execution_count": null,
      "id": "d65e33e1",
      "metadata": {
        "id": "d65e33e1"
      },
      "outputs": [],
      "source": [
        "dx = lambda t: 5*t**4 + 12*t**2 + 1"
      ]
    },
    {
      "cell_type": "code",
      "execution_count": null,
      "id": "b8ef196b",
      "metadata": {
        "id": "b8ef196b"
      },
      "outputs": [],
      "source": [
        "vx = dx(1)"
      ]
    },
    {
      "cell_type": "code",
      "execution_count": null,
      "id": "3d29f838",
      "metadata": {
        "id": "3d29f838"
      },
      "outputs": [],
      "source": [
        "print(f'Velocidad promedio {vxm} m/s')\n",
        "print(f'Velocidad instantánea {vx} m/s')"
      ]
    },
    {
      "cell_type": "markdown",
      "id": "36918e0d",
      "metadata": {
        "id": "36918e0d"
      },
      "source": [
        "## Modelos de análisis\n",
        "Los **modelos de análisis** nos permiten analizar y resolver problemas físicos. Un **modelo de análisis** es un problema que ha sido resuelto, por ejemplo:\n",
        "* El comportamiento de un objeto.\n",
        "* La interacción entre el objeto y el entorno.\n",
        "\n",
        "Si tomamos el ejemplo de la motocicleta y consideramos que se mueve sobre una autopista recta con una rapidez constante ¿Influye que sea una motocicleta y no un carro? ¿Una autopista y no una carretera? Si no hay influencia entonces podemos considerar a la motocicleta como una **partícula bajo velocidad constante**.\n",
        "\n",
        "El modelo de **partícula bajo velocidad constante** se aplica a cualquier problema donde el objeto se puede representar como partícula con velocidad constante.\n",
        "\n",
        "Recordando la ecuación de velocidad promedio:\n",
        "\n",
        "\\begin{equation}\n",
        " v_{x_{m}} \\equiv \\frac{\\Delta x}{\\Delta t},\n",
        "\\end{equation}\n",
        "\n",
        "tenemos que si la velocidad es constante, entonces $v_{x} = v_{x_{m}}$. Esta situación puede ser representada por la siguiente ecuación:\n",
        "\n",
        "\\begin{equation}\n",
        " v_{x} = \\frac{\\Delta x}{\\Delta t} = \\frac{x_{f}-x_{i}}{\\Delta t}.\n",
        "\\end{equation}\n",
        "\n",
        "De lo anterior tenemos\n",
        "\n",
        "\\begin{equation}\n",
        " x_{f} = x_{i} + v_{x}\\Delta t.\n",
        "\\end{equation}\n",
        "\n",
        "Esta ecuación nos dice que podemos conocer la posición de la partícula a partir de la posición original $x_{i}$ en $t=0$ y el desplazamiento $v_{x}\\Delta t$ que ocurre en $\\Delta t$. Para ser homogéneos con la notación, la ecuación anterior se puede escribir como sigue:\n",
        "\n",
        "\\begin{equation}\n",
        " x_{f} = x_{i} + v_{x} t.\n",
        "\\end{equation}"
      ]
    },
    {
      "cell_type": "markdown",
      "id": "e38a6a78",
      "metadata": {
        "id": "e38a6a78"
      },
      "source": [
        "---\n",
        "## Ejemplo 3\n",
        "\n",
        "En la licenciatura en órtesis y prótesis se estudia la biomecánica del cuerpo humano. Determinan la velocidad de un paciente corriendo a lo largo de una banda recta con una rapidez constante. Personal técnico activa el cronómetro al pasar por una de las banderas colocadas y lo detiene en la siguiente bandera colocada a 20 m de distancia. El intervalo de tiempo indicado en el cronómetro es 4 s. \n",
        "\n",
        "* ¿Cuál es la velocidad del paciente?\n",
        "* Si el paciente continúa su movimiento, ¿cuál es su posición después de 10 s?\n"
      ]
    },
    {
      "cell_type": "markdown",
      "id": "4a2e40bd",
      "metadata": {
        "id": "4a2e40bd"
      },
      "source": [
        "Consideremos ahora que la partícula se mueve sobre una trayectoria curva con una rapidez constante. Este problema supone un **modelo de partícula bajo rapidez constante**. Sustituyendo la rapidez promedio $v_m$ por la rapidez constante $v$ tenemos:\n",
        "\n",
        "\\begin{equation}\n",
        " v = \\frac{{d}}{\\Delta t}.\n",
        "\\end{equation}\n",
        "\n",
        "Por ejemplo, considere que una partícula se mueve con rapidez constante sobre una trayectoria particular. Para ello, tome en cuenta que la rapidez es 7 m/s y el radio de la trayectoria es 15m:\n",
        "\n",
        "\\begin{equation}\n",
        " v = \\frac{{d}}{\\Delta t} \\quad \\rightarrow \\quad \\Delta t = \\frac{d}{v} = \\frac{2\\pi r}{v} = \\frac{2\\pi(15)}{7} = 13.4639~ [?].\n",
        "\\end{equation}\n"
      ]
    },
    {
      "cell_type": "markdown",
      "id": "497814c1",
      "metadata": {
        "id": "497814c1"
      },
      "source": [
        "---\n",
        "## Aceleración\n",
        "En el **Ejemplo 2**, se abordó un problema en donde la velocidad de una partícula cambia mientras se mueve. Cuando la velocidad de dicha partícula cambia con el tiempo, se dice que la partícula **acelera**. Por ejemplo, cuando una bicicleta, automóvil o motocicleta acelera y disminuye cuando frena. Pero ¿cómo cuantificamos la aceleración?.\n",
        "\n",
        "Considere un objeto representado como partícula en movimiento a lo largo del eje $x$ con una velocidad inicial $v_{x_{i}}$ en $t_{i}$ y una velocidad final $v_{x_{f}}$ en $t_{f}$. La **aceleración promedio** denotada como $a_{x_{m}}$, se define como el *cambio* en $\\Delta v_{x}$ dividido por $\\Delta t$ donde ocurre el cambio, *i.e.*:\n",
        "\n",
        "\\begin{equation}\n",
        " a_{x_{m}} \\equiv \\frac{\\Delta v_{x}}{\\Delta t} = \\frac{v_{x_{f}} - v_{x_{i}}}{t_{f} - t_{i}}.\n",
        "\\end{equation}\n",
        "\n",
        "Al igual que con la velocidad, los signos (+) y (-) indican la dirección de la aceleración. Algunas ocasiones, la $a_{x_{m}}$ puede ser diferente en diversos intervalos de tiempo, para ello utilizamos la **aceleración instantánea** como el límite de $a_{x_{m}}$ conforme $\\Delta t \\rightarrow 0$. Es decir:\n",
        "\n",
        "\\begin{equation}\n",
        " a_{x} \\equiv \\lim \\limits_{\\Delta t \\rightarrow 0} \\frac{\\Delta v_{x}}{\\Delta t} = \\frac{\\mathrm{d}v_{x}}.{\\mathrm{d}t}\n",
        "\\end{equation}\n",
        "\n",
        "De lo anterior, podemos interpretar la derivada de la velocidad respecto al tiempo como la relación de cambio de velocidad en el tiempo. Donde tenemos los siguientes casos:\n",
        "\n",
        "* Si $a_{x}>0$, la aceleración está en la dirección $x>0$. \n",
        "* Si $a_{x}<0$, la aceleración está en la dirección $x<0$.\n",
        "\n",
        "En caso de tener un movimiento sobre una línea recta la dirección de la velocidad y la dirección de su aceleración se relacionan de la siguiente manera:\n",
        "\n",
        "* Si la velocidad y la aceleración del objeto están en la misma dirección, el objeto aumenta su velocidad.\n",
        "* Si la velocidad y la aceleración del objeto están en direcciones opuestas, el objeto frena.\n",
        "\n",
        "Utilizaremos el término **aceleración** para referirnos a aceleración instantánea. Mientras que **promedio** lo haremos para aceleración promedio. Dado que $v_{x} = \\mathrm{d}x / \\mathrm{d}t$, podemos escribir la aceleración como sigue:\n",
        "\n",
        "\\begin{equation}\n",
        " a_{x} = \\frac{\\mathrm{d}v_{x}}{\\mathrm{d}t} = \\frac{\\mathrm{d}}{\\mathrm{d}t}\\left( \\frac{\\mathrm{d}x}{\\mathrm{d}t} \\right) = \\frac{\\mathrm{d}^{2}x}{\\mathrm{d}t^{2}}.\n",
        "\\end{equation}\n",
        "\n",
        "Esto es, *la aceleración es igual a la segunda derivada de la posición respecto al tiempo*."
      ]
    },
    {
      "cell_type": "markdown",
      "id": "418f0a7d",
      "metadata": {
        "id": "418f0a7d"
      },
      "source": [
        "---\n",
        "## Ejemplo 4. Relaciones gráficas entre $x$, $v_{x}$ y $a_{x}$\n",
        "La variación de una partícula que se mueve a lo largo del eje $x$ varía con el tiempo como se muestra en la siguiente Figura"
      ]
    },
    {
      "cell_type": "code",
      "execution_count": null,
      "id": "65c649f5",
      "metadata": {
        "id": "65c649f5"
      },
      "outputs": [],
      "source": [
        "p1 = 0.0007001\n",
        "p2 = -0.01944\n",
        "p3 = 0.2141\n",
        "p4 = -1.26\n",
        "p5 = 3.913\n",
        "p6 = -1.866\n",
        "p7 = 0.6406\n",
        "    \n",
        "x = lambda t: (p1*(t**6) + p2*(t**5) + p3*(t**4) + p4*(t**3) + p5*(t**2) + p6*t + p7)"
      ]
    },
    {
      "cell_type": "code",
      "execution_count": null,
      "id": "1b4b861c",
      "metadata": {
        "id": "1b4b861c"
      },
      "outputs": [],
      "source": [
        "t = np.linspace(0,10,10)"
      ]
    },
    {
      "cell_type": "code",
      "execution_count": null,
      "id": "c1117d82",
      "metadata": {
        "id": "c1117d82"
      },
      "outputs": [],
      "source": [
        "plt.figure()\n",
        "plt.plot(t,x(t))\n",
        "plt.xlabel('t')\n",
        "plt.ylabel('x')\n",
        "plt.grid()\n",
        "plt.show()"
      ]
    },
    {
      "cell_type": "markdown",
      "id": "607cb4df",
      "metadata": {
        "id": "607cb4df"
      },
      "source": [
        "--- \n",
        "## Derivada numérica\n",
        "\n",
        "Partimos de la definición de la derivada:\n",
        "\n",
        "\\begin{equation}\n",
        " \\frac{\\mathrm{d}f(x)}{\\mathrm{d}t} = \\lim \\limits_{h \\rightarrow 0} \\frac{f(x+h) - f(x)}{h}\n",
        ".\\end{equation}"
      ]
    },
    {
      "cell_type": "code",
      "execution_count": null,
      "id": "79c9d93a",
      "metadata": {
        "id": "79c9d93a"
      },
      "outputs": [],
      "source": [
        "# Definimos una función que nos permita hacer la derivación numérica a partir de la ecuación anterior\n",
        "def derivada_numerica(x,dx):\n",
        "    xp = np.zeros(len(x)-1)\n",
        "    \n",
        "    for k in range(len(x)-1):\n",
        "        xp[k] = (x[k+1]-x[k])/dx\n",
        "        \n",
        "    return xp"
      ]
    },
    {
      "cell_type": "code",
      "execution_count": null,
      "id": "ef717023",
      "metadata": {
        "id": "ef717023"
      },
      "outputs": [],
      "source": [
        "n = np.linspace(-3,3,100) # Valores de x E [-3,3]\n",
        "g = lambda x : np.tanh(x + 1) # función tanh(x+1)"
      ]
    },
    {
      "cell_type": "code",
      "execution_count": null,
      "id": "05b78508",
      "metadata": {
        "id": "05b78508"
      },
      "outputs": [],
      "source": [
        "gp = lambda x : 1 - np.tanh(x + 1)**2 # derivada analítica de tanh(x + 1)"
      ]
    },
    {
      "cell_type": "code",
      "execution_count": null,
      "id": "ff9b9d2d",
      "metadata": {
        "id": "ff9b9d2d"
      },
      "outputs": [],
      "source": [
        "plt.figure\n",
        "plt.plot(n[:-1],gp(n[:-1]), label = 'Analitica')\n",
        "plt.plot(n[:-1],derivada_numerica(g(n),0.01), label = 'Numerica')\n",
        "plt.grid()\n",
        "plt.legend()\n",
        "plt.show()"
      ]
    },
    {
      "cell_type": "markdown",
      "id": "09bd51aa",
      "metadata": {
        "id": "09bd51aa"
      },
      "source": [
        "---\n",
        "Retomando el ejercicio 4, tenemos entonces"
      ]
    },
    {
      "cell_type": "code",
      "execution_count": null,
      "id": "e79f2b91",
      "metadata": {
        "id": "e79f2b91"
      },
      "outputs": [],
      "source": [
        "dx = t[1]-t[0]\n",
        "vx = derivada_numerica(x(t),dx)\n",
        "ax = derivada_numerica(vx,dx)"
      ]
    },
    {
      "cell_type": "code",
      "execution_count": null,
      "id": "c9f17edf",
      "metadata": {
        "id": "c9f17edf"
      },
      "outputs": [],
      "source": [
        "%matplotlib notebook"
      ]
    },
    {
      "cell_type": "code",
      "execution_count": null,
      "id": "ab4c1fcb",
      "metadata": {
        "id": "ab4c1fcb"
      },
      "outputs": [],
      "source": [
        "plt.figure()\n",
        "#plt.subplot(311)\n",
        "plt.plot(t,x(t), label = 'x')\n",
        "#plt.ylabel('x')\n",
        "#plt.grid()\n",
        "\n",
        "#plt.subplot(312)\n",
        "plt.plot(t[:-1],vx, label = '$v_x$')\n",
        "#plt.ylabel('$v_{x}$')\n",
        "#plt.grid()\n",
        "\n",
        "#plt.subplot(313)\n",
        "plt.plot(t[:-2],ax, label = '$a_x$')\n",
        "plt.xlabel('t')\n",
        "#plt.ylabel('$a_{x}$')\n",
        "plt.legend()\n",
        "plt.grid()\n",
        "\n",
        "plt.show()"
      ]
    },
    {
      "cell_type": "markdown",
      "id": "1b4df0bb",
      "metadata": {
        "id": "1b4df0bb"
      },
      "source": [
        "## Conclusiones\n",
        "*  Entre $t=0$ y $t\\approx0.4$, la pendiente de la gráfica $x-t$ aumenta uniformemente, de modo que la velocidad aumenta linealmente"
      ]
    },
    {
      "cell_type": "markdown",
      "id": "d2c588c0",
      "metadata": {
        "id": "d2c588c0"
      },
      "source": [
        "## Ejemplo 5\n",
        "La velocidad de una partícula que se mueve a lo largo del eje $x$ varía de acuerdo con la expresión $v_{x} = (40-5t^{2})$ m/s.\n",
        "\n",
        "* Encuentre la aceleración promedio en el intervalo de tiempo $t=0$ a $t=2.0$ s.\n",
        "\n",
        "\\begin{equation}\n",
        " a_{x_{m}} = \\frac{v_{x_{f}} - v_{x_{i}}}{t_{f} - t_{i}} = \\frac{20 - 40}{2.0 - 0} = -10~m/s^{2},\n",
        "\\end{equation}\n",
        "\n",
        "dado que:\n",
        "\n",
        "\\begin{equation}\n",
        " v_{x_{f}} = (40-5t_{f}^{2}) = 40 - 5(2)^{2} = 20 m/s,\n",
        "\\end{equation}\n",
        "\n",
        "\\begin{equation}\n",
        " v_{x_{i}} = (40-5t_{i}^{2}) = 40 - 5(0)^{2} = 40 m/s.\n",
        "\\end{equation}"
      ]
    },
    {
      "cell_type": "markdown",
      "id": "af399ce0",
      "metadata": {
        "id": "af399ce0"
      },
      "source": [
        "---\n",
        "## Ejercicios\n",
        "1. El movimiento de una partícula se determina a partir de la siguiente ecuación $x = a + bt^2$ en donde $a=20cm$ y $b=4cm/s^{2}$. Calcule:\n",
        "    1. El desplazamiento de la partícula en el intervalo de tiempo comprendido entre $t_{1} = 2s$ y $t_{2} = 5s$.\n",
        "    2. La rapidez media en ese intervalo.\n",
        "    3. La rapidez instantánea para $t=2s$.\n",
        "    \n",
        "    \n",
        "2. Un cuerpo se mueve sobre una recta, estando su distancia al origen, en un instante cualquiera, definida por la expresión $x= Bt - 3t^{2}$, en la que $x$ se mide en cm y $t$ en segundos. Calcule:\n",
        "    1. La velocidad media del cuerpo en el intervalo comprendido entre $t=0$ y $t=1$s y en el intervalo $t=0$ y $t=4$s.\n",
        "    2. La velocidad instantánea en los tiempos $t=1$s y $t=4$s.\n",
        "    3. El instante o instantes en los cuales el cuerpo está en reposo.\n",
        "    4. La aceleración en los instantes $t=1$s y $t=4$s.\n",
        "    \n",
        "    \n",
        "3. La posición de un carro de derby se observó en varios momentos; los resultados se resumen en la tabla siguiente. Encuentre la velocidad promedio del auto para:\n",
        "    1. el primer intervalo de tiempo de 1 s,\n",
        "    2. los últimos 3 s \n",
        "    3. todo el periodo de observación.\n",
        "    \n",
        "||||||||\n",
        "|----|-|---|---|----|----|----|\n",
        "|t(s)|0|1.0|2.0| 3.0| 4.0| 5.0|\n",
        "|x(m)|0|2.3|9.2|20.7|36.8|57.5|\n",
        "\n",
        "4. Una persona camina, primero, con rapidez constante de 5.00 m/s a lo largo de una línea recta desde el punto A al punto B y luego de regreso a lo largo de la línea de B a A con una rapidez constante de 3.00 m/s.\n",
        "    1. ¿Cuál es su rapidez prome dio durante todo el viaje?\n",
        "    2. ¿Cuál es su velocidad promedio durante todo el viaje?\n",
        "\n",
        "\n",
        "5. Una partícula se mueve de acuerdo con la ecuación $x= 10t^2$, donde $x$ está en metros y $t$ en segundos.\n",
        "    1. Encuentre la velocidad promedio para el intervalo de tiempo de 2.00 s a 3.00 s.\n",
        "    2. Encuentre la velocidad promedio para el intervalo de tiempo de 2.00 s a 2.10 s.\n",
        "    \n",
        "    \n",
        "6. La posición de una partícula que se mueve a lo largo del eje $x$ varía con el tiempo de acuerdo con la expresión $x = 3t^{2}$ donde $x$ está en metros y $t$ en segundos. Evalúe su posición:\n",
        "    1. En $t=3.00$ s\n",
        "    2. En $t=3.00 + \\Delta t$ s\n",
        "    3. Evalúe el límite de $\\Delta x/ \\Delta t$ conforme $\\Delta t$ tiende a cero para encontrar la velocidad en $t =3.00$ s.\n",
        "    \n",
        "\n",
        "7. Una liebre y una tortuga compiten en una carrera en una ruta de 1.00 km de largo. La tortuga paso a paso continuo y de manera estable a su máxima rapidez de 0.200 m/s se dirige hacia la línea de meta. La liebre corre a su máxima rapidez de 8.00 m/s hacia la meta durante 0.800 km y luego se detiene para fastidiar a la tortuga. ¿Cuán cerca de la meta la liebre puede dejar que se acerque la tortuga antes de reanudar la carrera, que gana la tortuga en un final de fotografía? Suponga que ambos animales, cuando se mueven, lo hacen de manera constante a su respectiva rapidez máxima.\n",
        "\n",
        "\n",
        "8. Una superbola de 50.0 g que viaja a 25.0 m/s bota en una pared de ladrillo y rebota a 22.0 m/s. Una cámara de alta rapidez registra este evento. Si la bola está en contacto con la pared durante 3.50 ms, ¿cuál es la magnitud de la aceleración promedio de la bola durante este intervalo de tiempo?\n",
        "\n",
        "\n",
        "9. Una partícula se mueve a lo largo del eje $x$ de acuerdo con la ecuación $x=2.00 + 3.00t - t^{2}$, donde $x$ está en metros y $t$ en segundos. En $t=3.00$ s, encuentre:\n",
        "    1. la posición de la partícula, \n",
        "    2. su velocidad\n",
        "    3. su aceleración.\n",
        "    \n",
        "    \n",
        "10. Un objeto se mueve a lo largo del eje $x$ de acuerdo con la ecuación $x(t) = (3.00t^2 + 2.00t + 3.00)$ m, donde $t$ está en segundos. Determine:\n",
        "    1. la rapidez promedio entre $t = 2.00$ s y $t = 3.00$ s,\n",
        "    2. la rapidez instantánea en $t = 2.00$ s y $t = 3.00$ s,\n",
        "    3. la aceleración promedio entre $t = 2.00$ s y $t = 3.00$ s,\n",
        "    4. la aceleración instantánea en $t = 2.00$ s y $t = 3.00$ s."
      ]
    },
    {
      "cell_type": "code",
      "execution_count": null,
      "id": "92bb9246",
      "metadata": {
        "id": "92bb9246"
      },
      "outputs": [],
      "source": [
        "t = np.linspace(0,10,100)"
      ]
    },
    {
      "cell_type": "code",
      "execution_count": null,
      "id": "581e97b0",
      "metadata": {
        "id": "581e97b0"
      },
      "outputs": [],
      "source": [
        "x = lambda t : 6*t**2 - t**3\n",
        "xp = lambda t : 12*t - 3*t**2\n",
        "xpp = lambda t : 12 - 6*t"
      ]
    },
    {
      "cell_type": "code",
      "execution_count": null,
      "id": "cc171ee8",
      "metadata": {
        "id": "cc171ee8"
      },
      "outputs": [],
      "source": [
        "plt.figure()\n",
        "plt.plot(t,x(t), label = 'x(t)')\n",
        "plt.plot(t,xp(t), label = 'xp(t)')\n",
        "plt.plot(t,xpp(t), label = 'xpp(t)')\n",
        "plt.grid()\n",
        "plt.legend()\n",
        "plt.show()"
      ]
    },
    {
      "cell_type": "markdown",
      "id": "e74f90b6",
      "metadata": {
        "id": "e74f90b6"
      },
      "source": [
        "---\n",
        "# Ejercicio 5\n",
        "Una partícula se mueve de acuerdo con la ecuación $x= 10t^2$, donde $x$ está en metros y $t$ en segundos.\n",
        "   1. Encuentre la velocidad promedio para el intervalo de tiempo de 2.00 s a 3.00 s.\n",
        "   2. Encuentre la velocidad promedio para el intervalo de tiempo de 2.00 s a 2.10 s."
      ]
    },
    {
      "cell_type": "code",
      "execution_count": null,
      "id": "3155f7ce",
      "metadata": {
        "id": "3155f7ce"
      },
      "outputs": [],
      "source": [
        "t = np.linspace(0,5,100) # vector de tiempo de 0 a 5 s, con 100 datos\n",
        "\n",
        "# 50\n",
        "# 41\n",
        "\n",
        "x = lambda t : 10*t**2 # ecuación que representa el movimiento de la partícula\n",
        "xp = lambda t: 20*t"
      ]
    },
    {
      "cell_type": "code",
      "execution_count": null,
      "id": "9364360c",
      "metadata": {
        "id": "9364360c",
        "outputId": "779e40a6-10af-4db2-805a-ce2832b98477"
      },
      "outputs": [
        {
          "data": {
            "text/plain": [
              "40.99999999999998"
            ]
          },
          "execution_count": 4,
          "metadata": {},
          "output_type": "execute_result"
        }
      ],
      "source": [
        "tf = 2.10\n",
        "ti = 2\n",
        "\n",
        "xf = x(tf)\n",
        "xi = x(ti)\n",
        "\n",
        "delta_x = xf - xi\n",
        "delta_t = tf - ti\n",
        "\n",
        "v_x_m = delta_x/delta_t\n",
        "v_x_m"
      ]
    },
    {
      "cell_type": "code",
      "execution_count": null,
      "id": "f8e4fb3e",
      "metadata": {
        "id": "f8e4fb3e",
        "outputId": "3cd65080-fab3-4131-b00f-6327af822bb8"
      },
      "outputs": [
        {
          "data": {
            "image/png": "[encoded data removed]",
            "text/plain": [
              "<Figure size 432x288 with 1 Axes>"
            ]
          },
          "metadata": {
            "needs_background": "light"
          },
          "output_type": "display_data"
        }
      ],
      "source": [
        "plt.figure\n",
        "plt.plot(t,x(t), label = 'x(t)')\n",
        "plt.plot(t,xp(t), label = 'xp(t)')\n",
        "plt.grid()\n",
        "plt.legend()\n",
        "plt.show()"
      ]
    },
    {
      "cell_type": "markdown",
      "id": "fd1f93a0",
      "metadata": {
        "id": "fd1f93a0"
      },
      "source": [
        "---\n",
        "# Ejercicio 6\n",
        "La posición de una partícula que se mueve a lo largo del eje $x$ varía con el tiempo de acuerdo con la expresión $x = 3t^{2}$ donde $x$ está en metros y $t$ en segundos. Evalúe su posición:\n",
        "   1. En $t=3.00$ s\n",
        "   2. En $t=3.00 + \\Delta t$ s\n",
        "   3. Evalúe el límite de $\\Delta x/ \\Delta t$ conforme $\\Delta t$ tiende a cero para encontrar la velocidad en $t =3.00$ s."
      ]
    },
    {
      "cell_type": "code",
      "execution_count": null,
      "id": "d849ce74",
      "metadata": {
        "id": "d849ce74"
      },
      "outputs": [],
      "source": [
        "x = lambda t : 3*t**2"
      ]
    },
    {
      "cell_type": "code",
      "execution_count": null,
      "id": "8ad531f0",
      "metadata": {
        "id": "8ad531f0",
        "outputId": "864b197b-e479-4a38-8543-7628aeef1ab0"
      },
      "outputs": [
        {
          "data": {
            "image/png": "[encoded data removed]",
            "text/plain": [
              "<Figure size 432x288 with 1 Axes>"
            ]
          },
          "metadata": {
            "needs_background": "light"
          },
          "output_type": "display_data"
        }
      ],
      "source": [
        "plt.figure()\n",
        "plt.plot(t,x(t))\n",
        "plt.plot(3,x(3))\n",
        "plt.grid()\n",
        "plt.show()"
      ]
    },
    {
      "cell_type": "markdown",
      "id": "661de88a",
      "metadata": {
        "id": "661de88a"
      },
      "source": [
        "---\n",
        "# Ejercicio 9\n",
        "Una partícula se mueve a lo largo del eje $x$ de acuerdo con la ecuación $x=2.00 + 3.00t - t^{2}$, donde $x$ está en metros y $t$ en segundos. En $t=3.00$ s, encuentre:\n",
        "   1. la posición de la partícula, \n",
        "   2. su velocidad\n",
        "   3. su aceleración."
      ]
    },
    {
      "cell_type": "code",
      "execution_count": null,
      "id": "216995e3",
      "metadata": {
        "id": "216995e3"
      },
      "outputs": [],
      "source": [
        ""
      ]
    },
    {
      "cell_type": "markdown",
      "id": "4ced7a60",
      "metadata": {
        "id": "4ced7a60"
      },
      "source": [
        "# Ejercicio 10\n",
        "Un objeto se mueve a lo largo del eje $x$ de acuerdo con la ecuación $x(t) = (3.00t^2 + 2.00t + 3.00)$ m, donde $t$ está en segundos. Determine:\n",
        "   1. la rapidez promedio entre $t = 2.00$ s y $t = 3.00$ s,\n",
        "   2. la rapidez instantánea en $t = 2.00$ s y $t = 3.00$ s,\n",
        "   3. la aceleración promedio entre $t = 2.00$ s y $t = 3.00$ s,\n",
        "   4. la aceleración instantánea en $t = 2.00$ s y $t = 3.00$ s."
      ]
    },
    {
      "cell_type": "markdown",
      "id": "d542fcbb",
      "metadata": {
        "id": "d542fcbb"
      },
      "source": [
        "# Ejercicio 11\n",
        "Una partícula parte del reposo y acelera como se muestra en la siguiente gráfica. Determine:\n",
        "   1. La rapidez de la partícula en $t= 10$ s y $t=20$ s.\n",
        "   2. La distancia recorrida en los primeros 20 s.\n",
        "   \n",
        "<img src=\"../figs/grafica_ejercicio_11.png\" width=340 height=320 />"
      ]
    },
    {
      "cell_type": "markdown",
      "id": "7ed483b5",
      "metadata": {
        "id": "7ed483b5"
      },
      "source": [
        "# Aceleración constante\n",
        "\n",
        "Analizar la aceleración de una partícula a lo largo del tiempo puede ser difícil de analizar debido a que su movimiento es complejo. Para ello, puede considerarse que la aceleración es constante. Es decir, la aceleración promedio $a_{x_{m}}$ en cualquier intervalo de tiempo es igual a la aceleración instantánea $a_{x}$ en cualquier  instante dentro del intervalo. Por consiguiente, la velocidad cambia con la misma proporción a lo largo del movimiento.\n",
        "\n",
        "Sustituyendo $a_{x_{m}}$ por $a_{x}$; considerando $t_{i} = 0$ y $t_{f}$ como cualquier tiempo $t$ posterior, tenemos:\n",
        "\n",
        "\\begin{equation}\n",
        " \\label{ac_const}\n",
        " a_{x} = \\frac{v_{x_{f}}-v_{x_{i}}}{t-0} \\quad \\Rightarrow \\quad v_{x_{f}} = v_{x_{i}} + a_{x_{t}}t.\n",
        "\\end{equation}\n",
        "\n",
        "La ecuación \\eqref{ac_const} nos sirve para determinar la velocidad de un objeto en *cualquier* tiempo $t$ si conocemos la velocidad inicial $v_{x_{i}}$ y su aceleración $a_{x}$ (constante).\n",
        "\n",
        "Debido a que la velocidad con aceleración constante varía linealmente a lo largo del tiempo, la velocidad promedio en cualquier intervalo de tiempo está dada por la siguiente expresión:\n",
        "\n",
        "\\begin{equation}\n",
        " v_{x_{m}} = \\frac{v_{x_{i}} + v_{x_{f}}}{2}.\n",
        "\\end{equation}\n",
        "\n",
        "**Nota.** Esta expresión sólo se aplica cuando la aceleración es constante.\n",
        "\n",
        "¿Y si queremos obtener la posición de un objeto como función del tiempo? Recordemos que $\\Delta x = x_{f} - x_{i}$ y que $\\Delta t = t_{f} - t_{i} = t - 0 = t$, de modo que:\n",
        "\n",
        "\\begin{equation}\n",
        " x_{f} - x_{i} = v_{x_{m}} \\cdot t = \\frac{1}{2}\\left( v_{x_{i}} + v_{x_{f}} \\right)t,\n",
        "\\end{equation}\n",
        "o bien\n",
        "\n",
        "\\begin{equation}\n",
        " x_{f} = x_{i} + \\frac{1}{2} \\left( v_{x_{i}} + v_{x_{f}} \\right)t.\n",
        "\\end{equation}\n",
        "\n",
        "A partir de la expresión anterior, podemos conocer la posición final de la partícula en el tiempo $t$ en términos de\n",
        "las velocidades inicial y final.\n",
        "\n",
        "La posición final de una partícula en el tiempo $t$ en términos de la velocidad inicial y la aceleración constante, está dada por la siguiente expresión:\n",
        "\n",
        "\\begin{equation}\n",
        " x_{f} = x_{i} + v_{x_{i}}t + \\frac{1}{2}a_{x}t^{2}.\n",
        "\\end{equation}\n",
        "\n",
        "Finalmente, si queremos obtener la velocidad final en términos de la velocidad inicial, la aceleración constante y la posición de la partícula utilizamos la siguiente expresión:\n",
        "\n",
        "\\begin{equation}\n",
        " v_{x_{f}}^{2} = v_{x_{i}}^{2} + 2a_{x} \\left(x_{f} - x_{i} \\right).\n",
        "\\end{equation}\n",
        "\n",
        "En resumen tenemos:\n",
        "\n",
        "**Ecuaciones cinemáticas para movimiento de una partícula bajo aceleración constante**\n",
        "\n",
        "| **Ecuación**                                                        | **Información**                             |\n",
        "|---------------------------------------------------------------------|---------------------------------------------|\n",
        "| $v_{x_{f}} = v_{x_{i}} + a_{x}t$                                    | Velocidad como función del tiempo           |\n",
        "| $x_{f} = x_{i} + \\frac{1}{2}\\left( v_{x_{i}} + v_{x_{f}} \\right)t$   | Posición como función de velocidad y tiempo |\n",
        "| $x_{f} = x_{i} + v_{x_{i}}t + \\frac{1}{2}a_{x}t^{2}$                | Posición como función del tiempo            |\n",
        "| $v_{x_{f}}^{2} = v_{x_{i}}^{2} + 2a_{x}\\left(x_{f} - x_{i} \\right)$ | Velocidad como función de la posición       |"
      ]
    },
    {
      "cell_type": "markdown",
      "id": "6f98006c",
      "metadata": {
        "id": "6f98006c"
      },
      "source": [
        "---\n",
        "# Ejemplo 6\n",
        "Un jet aterriza en un portaaviones a 140 mi/h.\n",
        " 1. ¿Cuál es su aceleración (constante) si se detiene en 2.0 s debido a un cable de arresto que traba al jet y lo deja en reposo?\n",
        "  1. **R**. $-31.5 m/s^{2}$\n",
        " 2. Si el jet toca al portaaviones en la posición $x_{i} = 0$, ¿cuál es su posición final?\n",
        "  1. **R**. 63m"
      ]
    },
    {
      "cell_type": "markdown",
      "id": "75b49098",
      "metadata": {
        "id": "75b49098"
      },
      "source": [
        "---\n",
        "# Ejemplo 7\n",
        "Un automóvil que viaja con una rapidez constante de 45.0 m/s pasa por donde un patrullero en motocicleta está oculto detrás de un anuncio espectacular. Un segundo después de que el automóvil pasa el anuncio, el patrullero sale de su escondite para detener al automóvil, que acelera con una relación constante de $3.00 m/s^{2}$. ¿Cuánto tiempo tarda en\n",
        "dar alcance al automóvil?"
      ]
    },
    {
      "cell_type": "markdown",
      "id": "945e4516",
      "metadata": {
        "id": "945e4516"
      },
      "source": [
        "---\n",
        "## Ejercicios\n",
        "1. Un objeto que se mueve con aceleración uniforme tiene una velocidad de 12.0 cm/s en la dirección $x>0$ cuando su\n",
        "coordenada $x$ es $3$ cm. Si su coordenada $x$, $2$ s después es $-5$ cm, ¿cuál es su aceleración?\n",
        "\n",
        "2. El conductor de un automóvil aplica los frenos cuando ve un árbol que bloquea el camino. El automóvil frena uniformemente con una aceleración de $-5.60~ m/s^{2}$ durante $4.20~ s$, y hace marcas de derrape rectas de $62.4~ m$ de largo que terminan en el árbol. ¿Con qué rapidez el automóvil golpea el árbol?\n",
        "\n",
        "3. Durante muchos años, el récord mundial de rapidez en tierra lo poseyó el coronel John P. Stapp, de la fuerza aérea de Estados Unidos. Él participó en un estudio para ver si un piloto de jet podría sobrevivir a la expulsión de emergencia. El 19 de marzo de 1954, viajó en un trineo impulsado por cohete que se movió por una pista a una rapidez de $632~ mi/h$. Él y el trineo llegaron al reposo en $1.40~ s$ con seguridad. Determine \n",
        "    1. La aceleración negativa que experimentó\n",
        "    2. La distancia que recorrió durante esta aceleración negativa.\n",
        "    \n",
        "4. Un electrón en un tubo de rayos catódicos acelera desde una rapidez de $2\\times 10^{4}$ m/s a $6\\times 10^{6}~ m/s$ en $1.50~ cm$.\n",
        "    1. ¿En qué intervalo de tiempo el electrón recorre estos $1.50~ cm$?\n",
        "    2. ¿Cuál es su aceleración?\n",
        "    \n",
        "5. Una partícula se mueve a lo largo del eje $x$. Su posición está dada por la ecuación $x = 2 + 3t - 4t^{2}$ con $x$ en metros y $t$ en segundos. Determine:\n",
        "    1. su posición cuando cambia de dirección.\n",
        "    2. su velocidad cuando regresa a la posición que tenía en $t=0$.\n",
        "    \n",
        "6. Un camión cubre $40~ m$ en $8.5~ s$ mientras frena de manera uniforme a una rapidez final de $2.8~ m/s$.\n",
        "    1. Encuentre su rapidez original. \n",
        "    2. Encuentre su aceleración."
      ]
    },
    {
      "cell_type": "markdown",
      "id": "fc49188a",
      "metadata": {
        "id": "fc49188a"
      },
      "source": [
        "---\n",
        "# \"Ecuacionario\"\n",
        "---\n",
        "## Definiciones\n",
        "\n",
        "**Desplazamiento**\n",
        "\\begin{equation}\n",
        " \\Delta x \\equiv x_{f} - x_{i}.\n",
        "\\end{equation}\n",
        "\n",
        "**Velocidad promedio**\n",
        "\\begin{equation}\n",
        " v_{x_{m}} \\equiv \\frac{\\Delta x}{\\Delta t}.\n",
        "\\end{equation}\n",
        "\n",
        "**Rapidez promedio**\n",
        "\\begin{equation}\n",
        " v_{m} \\equiv \\frac{d}{\\Delta t}.\n",
        "\\end{equation}\n",
        "\n",
        "**Velocidad instantánea**\n",
        "\\begin{equation}\n",
        " v_{x} \\equiv \\lim \\limits_{\\Delta t \\rightarrow 0} \\frac{\\Delta x}{\\Delta t} = \\frac{\\mathrm{d}x}{\\mathrm{d}t}.\n",
        "\\end{equation}\n",
        "\n",
        "**Aceleración promedio**\n",
        "\\begin{equation}\n",
        " a_{x_{m}} \\equiv \\frac{\\Delta v_{x}}{\\Delta t} = \\frac{v_{x_{f}} - v_{x_{i}}}{t_{f} - t_{i}}.\n",
        "\\end{equation}\n",
        "\n",
        "**Aceleración instantánea**\n",
        "\\begin{equation}\n",
        " a_{x} \\equiv \\lim \\limits_{\\Delta t \\rightarrow 0} \\frac{\\Delta v_{x}}{\\Delta t} = \\frac{\\mathrm{d}v_{x}}{\\mathrm{d}t}.\n",
        "\\end{equation}\n",
        "\n",
        "## Modelos de análisis\n",
        "**Partícula bajo velocidad constante.**\n",
        "\n",
        "Si una partícula se mueve en línea **recta** con una rapidez constante $v_{x}$\n",
        "\n",
        "\\begin{equation}\n",
        " v_{x} = \\frac{\\Delta x}{\\Delta t},\n",
        "\\end{equation}\n",
        "\n",
        "\\begin{equation}\n",
        " x_{f} = x_{i} + v_{x}t.\n",
        "\\end{equation}\n",
        "\n",
        "\n",
        "**Partícula bajo rapidez constante.** \n",
        "\n",
        "Si una partícula se mueve una distancia $d$ a lo largo de una trayectoria **curva** o **recta** con rapidez constante\n",
        "\n",
        "\\begin{equation}\n",
        " v = \\frac{d}{\\Delta t}\n",
        "\\end{equation}\n",
        "\n",
        "**Partícula bajo aceleración constante.**\n",
        "\n",
        "Si una partícula se mueve en línea recta con aceleración constante\n",
        "\n",
        "\\begin{equation}\n",
        " v_{x_{f}} = v_{x_{i}} + a_{x}t.\n",
        "\\end{equation}\n",
        "\n",
        "\\begin{equation}\n",
        " v_{x_{m}} = \\frac{v_{x_{i}} + v_{x_{f}}}{2}.\n",
        "\\end{equation}\n",
        "\n",
        "\\begin{equation}\n",
        " x_{f} = x_{i} + \\frac{1}{2}\\left( v_{x_{i}} + v_{x_{f}} \\right)t.\n",
        "\\end{equation}\n",
        "\n",
        "\\begin{equation}\n",
        " x_{f} = x_{i} + v_{x_{i}}t + \\frac{1}{2}a_{x}t^{2}.\n",
        "\\end{equation}\n",
        "\n",
        "\\begin{equation}\n",
        " v_{x_{f}}^{2} = v_{x_{i}}^{2} + 2a_{x}\\left(x_{f} - x_{i} \\right).\n",
        "\\end{equation}\n"
      ]
    }
  ],
  "metadata": {
    "hide_input": false,
    "kernelspec": {
      "display_name": "Python 3 (ipykernel)",
      "language": "python",
      "name": "python3"
    },
    "language_info": {
      "codemirror_mode": {
        "name": "ipython",
        "version": 3
      },
      "file_extension": ".py",
      "mimetype": "text/x-python",
      "name": "python",
      "nbconvert_exporter": "python",
      "pygments_lexer": "ipython3",
      "version": "3.10.2"
    },
    "colab": {
      "name": "Unidad_II.ipynb",
      "provenance": [],
      "include_colab_link": true
    }
  },
  "nbformat": 4,
  "nbformat_minor": 5
}