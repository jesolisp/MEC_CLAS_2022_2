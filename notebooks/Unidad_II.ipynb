{
  "cells": [
    {
      "cell_type": "markdown",
      "metadata": {
        "id": "view-in-github",
        "colab_type": "text"
      },
      "source": [
        "<a href=\"https://colab.research.google.com/github/jesolisp/MEC_CLAS_2022_2/blob/main/notebooks/Unidad_II.ipynb\" target=\"_parent\"><img src=\"https://colab.research.google.com/assets/colab-badge.svg\" alt=\"Open In Colab\"/></a>"
      ]
    },
    {
      "cell_type": "markdown",
      "id": "8e960e31",
      "metadata": {
        "id": "8e960e31"
      },
      "source": [
        "<img src=\"../figs/logo_ENESJ.png\" width=140 height=120 />\n",
        "\n",
        "# Mecánica clásica\n",
        "##  Semestre 2022-2 \n",
        "\n",
        "### Profr. Jesús Emmanuel Solís Pérez\n",
        "### jsolisp@unam.mx\n",
        "---"
      ]
    },
    {
      "cell_type": "markdown",
      "id": "3f5f50bd",
      "metadata": {
        "id": "3f5f50bd"
      },
      "source": [
        "# Unidad II . Cinemática\n",
        "\n",
        "La **cinemática** estudia el movimiento de los *partículas* sin estudiar las causas que originan el movimiento. Las magnitudes que define la cinemática son:\n",
        "\n",
        "* **Posición.** Lugar en el que se encuentra una partícula en un instante de tiempo $t$. \n",
        "* **Velocidad.** Variación de la posición con el tiempo.\n",
        "* **Aceleración.** Indica cuánto varía la velocidad con el paso del tiempo.\n",
        "\n",
        "El **desplazamiento** de una partícula se puede definir como el cambio de su posición en unn intervalo de tiempo. La ecuación de desplazamiento está dada como sigue:\n",
        "\n",
        "\\begin{equation}\n",
        " \\label{deltax}\n",
        " \\Delta x = x_{f} - x_{i},\n",
        "\\end{equation}\n",
        "donde $x_{i}$ denota la posición inicial, $x_{f}$ la final y $\\Delta$ el *cambio* en una cantidad.\n",
        "\n",
        "\n",
        "Recordemos que no es lo mismo desplazamiento y distancia recorrida. **Distancia** podemos definirla como la longitud de la trayectoria de una partícula. La distancia $d$ es $d>0$ mientras que el desplazamiento $\\Delta x$ puede ser $\\Delta x<0$ o $\\Delta x>0$.\n",
        "\n",
        "* Cualquier objeto que se mueva a la derecha implica $\\Delta x > 0$ (positivo)\n",
        "* Cualquier objeto que se mueva a la izquierda implica $\\Delta x < 0$ (negativo)\n",
        "\n",
        "La velocidad promedio $v_{xm}$ de una partícula está definida por la siguiente ecuación:\n",
        "\n",
        "\\begin{equation}\n",
        " v_{x_{m}} = \\frac{\\Delta x}{\\Delta t} = \\frac{x_{f} - x_{i}}{\\Delta t},\n",
        "\\end{equation}\n",
        "donde $\\Delta t$ representa el intervalo de tiempo en el cual ocurre el desplazamiento. De lo anterior, observamos que $v_{x_{m}}$ tiene dimensiones de ($L/T$), o $m\\cdot s$ en unidades del SI.\n",
        "\n",
        "Con la velocidad promedio tenemos algunos casos:\n",
        "\n",
        "* Si $x_{f}>x_{i}$, entonces $\\Delta x>0$ y $v_{xm} > 0$.\n",
        "* Si $x_{f}<x_{i}$, entonces $\\Delta x<0$ y $v_{xm} < 0$.\n",
        "\n",
        "La velocidad promedio se interpreta geométricamente dibujando un triángulo rectángulo de altura $\\Delta x$ y base $\\Delta t$. La pendiente está dada por la proporción $\\Delta x/ \\Delta t$.\n",
        "\n",
        "La rapidez promedio es una cantidad escalar que se define como la distancia total recorrida entre el intervalo de tiempo total, es decir:\n",
        "\n",
        "\\begin{equation}\n",
        " v_{m} \\equiv \\frac{d}{\\Delta t}.\n",
        "\\end{equation}\n",
        "\n",
        "**Nota.** La velocidad y rapidez promedio no son lo mismo. $v_{x_{m}}$ involucra el *desplazamiento* mientras que $v_{m}$ considera la *distancia*.\n",
        "\n",
        "---\n",
        "#### Videos de apoyo\n",
        "[Rapidez y velocidad](https://www.youtube.com/watch?v=ATaQ2JD5fd0)"
      ]
    },
    {
      "cell_type": "markdown",
      "id": "1df7696d",
      "metadata": {
        "id": "1df7696d"
      },
      "source": [
        "---\n",
        "## Ejemplo 1\n",
        "Encuentre $\\Delta x$, $v_{x_{m}}$ y $v_{m}$ de la siguiente motocicleta entre las posiciones $A$ y $G$\n",
        "\n",
        "<img src=\"../figs/ejemplo1.png\" width=640 height=420 />"
      ]
    },
    {
      "cell_type": "code",
      "execution_count": null,
      "id": "1c2aaa44",
      "metadata": {
        "id": "1c2aaa44"
      },
      "outputs": [],
      "source": [
        "import numpy as np\n",
        "import matplotlib.pyplot as plt\n",
        "\n",
        "%matplotlib inline"
      ]
    },
    {
      "cell_type": "code",
      "execution_count": null,
      "id": "a41ff625",
      "metadata": {
        "id": "a41ff625"
      },
      "outputs": [],
      "source": [
        "t = np.linspace(0,70,1000)\n",
        "ts = np.array([0,20,30,40,50,60,70]) \n",
        "xm = np.array([50,80,50,30,0,-30,-60])\n",
        "y_int = np.interp(t,ts,xm)"
      ]
    },
    {
      "cell_type": "code",
      "execution_count": null,
      "id": "7835308f",
      "metadata": {
        "id": "7835308f",
        "outputId": "78c9d76a-38c5-4665-efa4-12310d2719d4"
      },
      "outputs": [
        {
          "data": {
            "image/png": "[encoded data removed]",
            "text/plain": [
              "<Figure size 432x288 with 1 Axes>"
            ]
          },
          "metadata": {
            "needs_background": "light"
          },
          "output_type": "display_data"
        }
      ],
      "source": [
        "plt.plot(t,y_int)\n",
        "plt.grid('on')\n",
        "plt.show()"
      ]
    },
    {
      "cell_type": "markdown",
      "id": "daf57a6d",
      "metadata": {
        "id": "daf57a6d"
      },
      "source": [
        "| Posición | ${\\bf t(s)}$ | ${\\bf x(m)}$ |\n",
        "|:---:|:---:|:---:|\n",
        "| A | 0 | 50 |\n",
        "| B | 20 | 80 |\n",
        "| C | 30 | 50 |\n",
        "| D | 40 | 30 |\n",
        "| E | 50 | 0 |\n",
        "| F | 60 | -30 |\n",
        "| G | 70 | -60 |"
      ]
    },
    {
      "cell_type": "markdown",
      "id": "cdee82a6",
      "metadata": {
        "id": "cdee82a6"
      },
      "source": [
        "A partir de la figura anterior, podemos notar que $x_{A} = 50$ m en $t_{A} = 0$ mientras que $x_{G} = -60$ m en $t_{G} = 70$ s. Haciendo uso de la Ec. (1), tenemos\n",
        "\n",
        "\\begin{equation}\n",
        " \\Delta x = x_{G} - x_{A} = -60 \\text{ m} - 50 \\text{ m} = -110 \\text{ m}.\n",
        "\\end{equation}\n",
        "\n",
        "1. ¿Cuál es la interpretación de este resultado?\n",
        "\n",
        "Para encontrar la $v_{x_{m}}$ aplicamos la Ec. (2), esto es:\n",
        "\n",
        "\\begin{equation}\n",
        "v_{x_{m}} = \\frac{x_{G}-x_{A}}{t_{G} - t_{A}} = \\frac{-60 \\text{ m} - 50 \\text{ m}}{70 \\text{ s} - 0 \\text{ s}} = \\frac{-110 \\text{ m}}{70 \\text{ s}} = -1.57 \\text{ m/s}.\n",
        "\\end{equation}\n",
        "\n",
        "Para encontrar la $v_{m}$ aplicamos la Ec. (3):\n",
        "\n",
        "\\begin{equation}\n",
        " v_{m} = \\frac{170 \\text{ m}}{70 \\text{ s}} = 2.42 \\text{ m/s}.\n",
        "\\end{equation}\n",
        "\n",
        "Considerando que la distancia recorrida desde $A$ a $B$ es $30$ m, y de $B$ a $G$ es $140$ m, dando un total de $170$ m."
      ]
    },
    {
      "cell_type": "markdown",
      "id": "ed6f0e29",
      "metadata": {
        "id": "ed6f0e29"
      },
      "source": [
        "---\n",
        "¿Y qué pasa si queremos conocer la velocidad de una partícula en un instante de tiempo específico?\n",
        "\n",
        "La velocidad instantánea $v_{x}$ es igual al valor límite de $\\Delta x/\\Delta t$ conforme $\\Delta t \\rightarrow 0$. *i.e.*\n",
        "\n",
        "\\begin{equation}\n",
        " v_{x} \\equiv \\lim \\limits_{\\Delta t \\rightarrow 0} \\frac{\\Delta x}{\\Delta t}.\n",
        "\\end{equation}\n",
        "\n",
        "En cálculo, este límite lo conocemos como *derivada* de $x$ respecto a $t$ cuya expresión está dada como sigue:\n",
        "\n",
        "\\begin{equation}\n",
        " v_{x} \\equiv \\lim \\limits_{\\Delta t \\rightarrow 0} \\frac{\\Delta x}{\\Delta t} = \\frac{\\mathrm{d}x}{\\mathrm{d}t}.\n",
        "\\end{equation}\n",
        "\n",
        "**Nota.** $v_{x}>0$, $v_{x}<0$ o $v_{x}=0$.\n",
        "\n",
        "Por otro lado, la **rapidez instantánea** se define como la magnitud de su velocidad instantánea."
      ]
    },
    {
      "cell_type": "markdown",
      "id": "7b0a8ec8",
      "metadata": {
        "id": "7b0a8ec8"
      },
      "source": [
        "## Ejemplo 2\n",
        "Una partícula se mueve a lo largo del eje $x$, variando su posición con el tiempo de acuerdo con la siguiente expresión $x = -4t + 2t^{2}$. Donde $x$ está en metros y $t$ está en segundos.\n",
        "\n",
        "* Determine $\\Delta x$ en los intervalos de tiempo:\n",
        "    * $t \\in [0,1]$\n",
        "    * $t \\in [1,3]$"
      ]
    },
    {
      "cell_type": "code",
      "execution_count": null,
      "id": "716ff9fb",
      "metadata": {
        "id": "716ff9fb"
      },
      "outputs": [],
      "source": [
        "t = np.linspace(0,4,100)\n",
        "x = -4*t + 2*(t**2)"
      ]
    },
    {
      "cell_type": "code",
      "execution_count": null,
      "id": "058bb51a",
      "metadata": {
        "id": "058bb51a",
        "outputId": "c8e0e2bb-0b3b-4d39-a546-4377530cbeb8"
      },
      "outputs": [
        {
          "data": {
            "image/png": "[encoded data removed]",
            "text/plain": [
              "<Figure size 432x288 with 1 Axes>"
            ]
          },
          "metadata": {
            "needs_background": "light"
          },
          "output_type": "display_data"
        }
      ],
      "source": [
        "plt.plot(t,x)\n",
        "plt.grid('on')\n",
        "plt.xlabel('t(s)')\n",
        "plt.ylabel('x(m)')\n",
        "plt.show()"
      ]
    },
    {
      "cell_type": "markdown",
      "id": "ff5bf1f2",
      "metadata": {
        "id": "ff5bf1f2"
      },
      "source": [
        "1. Para el primer intervalo de tiempo, considere $t_{i} = t_{A}=0$ y $t_{f} = t_{B}=1$ y aplique la siguiente ecuación:\n",
        "\n",
        "\\begin{equation}\n",
        " \\Delta x \\equiv x_{f} - x_{i} = .\n",
        "\\end{equation}\n",
        "\n",
        "2. Para el primer intervalo de tiempo, considere $t_{i} = t_{A}=1$ y $t_{f} = t_{B}=3$\n",
        "\n",
        "\\begin{equation}\n",
        " \\Delta x \\equiv x_{f} - x_{i} = .\n",
        "\\end{equation}"
      ]
    },
    {
      "cell_type": "markdown",
      "id": "55fd80af",
      "metadata": {
        "id": "55fd80af"
      },
      "source": [
        "* Calcule $v_{x_{m}}$ durante estos intervalos de tiempo.\n",
        "\n",
        "1. Para el primer intervalo de tiempo, considere $\\Delta t = t_{f} - t_{i} = $\n",
        "\n",
        "Recordando\n",
        "\n",
        "\\begin{equation}\n",
        " v_{x_{m}} = \\frac{\\Delta x}{\\Delta t} = \\frac{}{} =  \\text{ m/s}.\n",
        "\\end{equation}\n",
        "\n",
        "2. Para el segundo intervalo de tiempo, considere $\\Delta t = t_{f} - t_{i} = $\n",
        "\n",
        "\\begin{equation}\n",
        " v_{x_{m}} = \\frac{\\Delta x}{\\Delta t} = \\frac{}{} =  \\text{ m/s}.\n",
        "\\end{equation}\n"
      ]
    },
    {
      "cell_type": "markdown",
      "id": "d9636788",
      "metadata": {
        "id": "d9636788"
      },
      "source": [
        "* Encuentre $v_{x}$ de la partícula en $t = 2.5$ s.\n",
        "\n",
        "Recordemos\n",
        "\n",
        "\\begin{equation}\n",
        " v_{x} \\equiv \\lim \\limits_{\\Delta t \\rightarrow 0} \\frac{\\Delta x}{\\Delta t} = \\frac{\\mathrm{d}x}{\\mathrm{d}t} = \\left[ \\right]\\vert_{t} = \n",
        "\\end{equation}"
      ]
    }
  ],
  "metadata": {
    "hide_input": false,
    "kernelspec": {
      "display_name": "Python 3 (ipykernel)",
      "language": "python",
      "name": "python3"
    },
    "language_info": {
      "codemirror_mode": {
        "name": "ipython",
        "version": 3
      },
      "file_extension": ".py",
      "mimetype": "text/x-python",
      "name": "python",
      "nbconvert_exporter": "python",
      "pygments_lexer": "ipython3",
      "version": "3.10.2"
    },
    "colab": {
      "name": "Unidad_II.ipynb",
      "provenance": [],
      "include_colab_link": true
    }
  },
  "nbformat": 4,
  "nbformat_minor": 5
}