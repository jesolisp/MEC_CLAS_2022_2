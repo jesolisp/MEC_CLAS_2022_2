{
  "cells": [
    {
      "cell_type": "markdown",
      "metadata": {
        "id": "view-in-github",
        "colab_type": "text"
      },
      "source": [
        "<a href=\"https://colab.research.google.com/github/jesolisp/MEC_CLAS_2022_2/blob/main/notebooks/ejemplo_7_solucion.ipynb\" target=\"_parent\"><img src=\"https://colab.research.google.com/assets/colab-badge.svg\" alt=\"Open In Colab\"/></a>"
      ]
    },
    {
      "cell_type": "markdown",
      "id": "ccf8b139",
      "metadata": {
        "id": "ccf8b139"
      },
      "source": [
        "## Ejemplo 7\n",
        "Un automóvil que viaja con una rapidez constante de 45.0 m/s pasa por donde un patrullero en motocicleta está oculto detrás de un anuncio espectacular. Un segundo después de que el automóvil pasa el anuncio, el patrullero sale de su escondite para detener al automóvil, que acelera con una relación constante de  $3.00~ m/s^{2}$. ¿Cuánto tiempo tarda en dar alcance al automóvil?\n",
        "\n",
        "<img src=\"../figs/ejercicio.png\" width=640 height=620 />\n",
        "\n",
        "## Paso 1\n",
        "El automóvil se modela como partícula bajo velocidad constante, es decir, aplicando modelos de análisis:\n",
        "\n",
        "\\begin{equation}\n",
        " \\label{mapvc}\n",
        " x_{f} = x_{i} + v_{x} t\n",
        "\\end{equation}\n",
        "\n",
        "## Paso 2\n",
        "La patrulla se modela como partícula bajo aceleración constante, es decir:\n",
        "\n",
        "\\begin{equation}\n",
        " \\label{pac}\n",
        " x_{f} = x_{i} + v_{x_{i}} t + \\frac{1}{2}a_{x}t^{2}.\n",
        "\\end{equation}\n",
        "\n",
        "## Paso 3\n",
        "Elegimos la posición del anuncio como el origen y $t=0$ como el tiempo en el cual el patrullero comienza a moverse.\n",
        "\n",
        "En este instante, ¿cuál es la distancia que recorrió el automóvil desde el anuncio?\n",
        "\n",
        "Consideremos que el automóvil viaja a una **rapidez constante** de $v_{x_{a}} = 45$ m/s durante 1s. Por consiguiente, la posición inicial del automóvil es $x_{i_{a}} = 45$ m.\n",
        "\n",
        "**NOTA.** El subíndice $a$ denota *automóvil* mientras que $p$ *patrulla*.\n",
        "\n",
        "## Paso 4\n",
        "Si aplicamos la Ec. \\eqref{mapvc}, podemos obtener la posición del auto en cualquier tiempo $t$. Esto es:\n",
        "\n",
        "\\begin{equation}\n",
        " x_{f_{a}} = x_{i_{a}} + v_{x_{a}}t = 45 + 45t.\n",
        "\\end{equation}\n",
        "\n",
        "**NOTA.** Si $t=0$, podemos obtener la posición inicial del automóvil justo cuando el patrullero comienza a moverse.\n",
        "\n",
        "## Paso 5\n",
        "El patrullero SÍ parte del origen en $t=0$ y acelera a $3~m/s^{2}$. Utilizando la Ec. \\eqref{pac}, tenemos:\n",
        "\n",
        "\\begin{equation}\n",
        " x_{f_{p}} = x_{i_{p}} + v_{x_{i_{p}}} t + \\frac{1}{2}a_{x}t^{2},\n",
        "\\end{equation}\n",
        "\n",
        "\\begin{equation}\n",
        " x_{f_{p}} = 0 + 0 t + \\frac{1}{2}a_{x}t^{2} = \\frac{1}{2}\\left(3 \\right)t^{2},\n",
        "\\end{equation}\n",
        "\n",
        "tomando en cuenta que la posición inicial del patrullero así como su velocidad inicial son cero. Recuerden, parte del letrero el cual es considerado como el origen.\n",
        "\n",
        "## Paso 6\n",
        "Se dice entonces que el patrullero alcanza al automóvil cuando sus posiciones son iguales. Esto lo podemos expresar matemáticamente como sigue:\n",
        "\n",
        "\\begin{equation}\n",
        " x_{f_{a}} = x_{f_{p}},\n",
        "\\end{equation}\n",
        "\n",
        "sustituyendo, tenemos:\n",
        "\n",
        "\\begin{equation}\n",
        " 45 + 45t = \\frac{1}{2}\\left(3 \\right)t^{2} \\quad \\equiv \\quad \\frac{3}{2}t^{2} - 45t - 45 = 0.\n",
        "\\end{equation}\n",
        "\n",
        "Despejamos el valor de $t$ utilizando el método de **Po-Shen Loh** (ver enlace al pie del notebook), la ecuación general, método del \"tanteo\", Wolfram Mathematica, Maxima, Matlab, etc. También podemos hacerlo con Python de la siguiente manera:"
      ]
    },
    {
      "cell_type": "code",
      "execution_count": null,
      "id": "6f65fcec",
      "metadata": {
        "id": "6f65fcec"
      },
      "outputs": [],
      "source": [
        "import numpy as np"
      ]
    },
    {
      "cell_type": "code",
      "execution_count": null,
      "id": "c7677428",
      "metadata": {
        "id": "c7677428",
        "outputId": "aec5d331-b172-4750-d730-e3c8bbb30f05"
      },
      "outputs": [
        {
          "data": {
            "text/plain": [
              "array([30.96871942, -0.96871942])"
            ]
          },
          "execution_count": 2,
          "metadata": {},
          "output_type": "execute_result"
        }
      ],
      "source": [
        "coeff = [3/2,-45,-45] # coeficientes del polinomio de la Ec. (7)\n",
        "np.roots(coeff)"
      ]
    },
    {
      "cell_type": "markdown",
      "id": "7bf6c45e",
      "metadata": {
        "id": "7bf6c45e"
      },
      "source": [
        "## Paso 7\n",
        "Como no podemos tener $t<0$, entonces nos quedamos con el resultado de $t=30.96.$ Esto es, $t \\approx 31$. Y concluimos que el tiempo que le tomó al patrullero en alcanzar al automovilista es 31 s.\n",
        "\n",
        "En clase se dijo que la gráfica que trataría de describir la variación de la posición del automóvil con respecto al tiempo es una curva. ¿Esta apreciación es correcta? Lo platicamos la siguiente sesión."
      ]
    },
    {
      "cell_type": "markdown",
      "id": "a78251e1",
      "metadata": {
        "id": "a78251e1"
      },
      "source": [
        "---\n",
        "# Videos de apoyo\n",
        "[Método de Po-Shen Loh](https://www.youtube.com/watch?v=V12mOdSbiOI)"
      ]
    }
  ],
  "metadata": {
    "hide_input": false,
    "kernelspec": {
      "display_name": "Python 3 (ipykernel)",
      "language": "python",
      "name": "python3"
    },
    "language_info": {
      "codemirror_mode": {
        "name": "ipython",
        "version": 3
      },
      "file_extension": ".py",
      "mimetype": "text/x-python",
      "name": "python",
      "nbconvert_exporter": "python",
      "pygments_lexer": "ipython3",
      "version": "3.10.2"
    },
    "colab": {
      "name": "ejemplo_7_solucion.ipynb",
      "provenance": [],
      "include_colab_link": true
    }
  },
  "nbformat": 4,
  "nbformat_minor": 5
}