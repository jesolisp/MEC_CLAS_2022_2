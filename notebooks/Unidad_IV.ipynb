{
 "cells": [
  {
   "cell_type": "markdown",
   "id": "3bd08502",
   "metadata": {},
   "source": [
    "<img src=\"../figs/logo_ENESJ.png\" width=140 height=120 />\n",
    "\n",
    "# Mecánica clásica\n",
    "##  Semestre 2022-2 \n",
    "\n",
    "### Profr. Jesús Emmanuel Solís Pérez\n",
    "### jsolisp@unam.mx\n",
    "---"
   ]
  },
  {
   "cell_type": "markdown",
   "id": "d07f42df",
   "metadata": {},
   "source": [
    "# Unidad IV. Trabajo y energía.\n",
    "\n",
    "Considere la siguiente imagen\n",
    "\n",
    "<img src=\"../figs/trabajo_mecanico.png\" width=340 height=120 />\n",
    "\n",
    "Una persona aplica una fuerza $\\overrightarrow{F}$ a una mesa para deslizarla sobre un plano horizontal. Para saber cuán efectiva es la fuerza necesaria para moverla se debe considerar la magnitud y dirección de $\\overrightarrow{F}$. También el desplazamiento $\\Delta \\overrightarrow{x}$ si se requiere determinar el trabajo invertido.\n",
    "\n",
    "El **trabajo** $W$ realizado por un agente sobre un sistema es el producto de la magnitud de la fuerza $F$, la magnitud del desplazamiento $\\Delta x$ y el $\\cos(\\theta)$\n",
    "\n",
    "\\begin{equation}\n",
    " W \\equiv F \\Delta x\\cos(\\theta),\n",
    "\\end{equation}\n",
    "\n",
    "donde $\\theta$ es el ángulo entre los vectores fuerza y desplazamiento $\\Delta x$.\n",
    "\n",
    "El signo de $W$ depende de la dirección de $\\overrightarrow{F}$ en relación con $\\Delta \\overrightarrow{x}$.\n",
    "\n",
    "* $W>0$, cuando la proyección de $\\overrightarrow{F}$ sobre $\\Delta \\overrightarrow{x}$ está en la misma dirección que $\\Delta x$.\n",
    "\n",
    "* $W<0$, cuando la proyección de $\\overrightarrow{F}$ sobre $\\Delta \\overrightarrow{x}$ está en la dirección contraria de $\\Delta x$.\n",
    "\n",
    "Si una fuerza $\\overrightarrow{F}$ está en la mista dirección que $\\Delta x$, implica que $\\theta )=0$ y por consiguiente\n",
    "\n",
    "\\begin{equation}\n",
    "W = F \\Delta x.\n",
    "\\end{equation}\n",
    "\n",
    "Las unidades de $W$ son las de fuerza multiplicada por longitud. La unidad de trabajo es el $N\\cdot m = kg\\cdot m^{2}/s^{2}$. Esta combinación se le conoce como **Joule**($J$).\n",
    "\n",
    "**Nota**. Es importante considar que el trabajo es una transferencia de energía. Lo que nos dice\n",
    "\n",
    "* Si $W>0$, entonces la energía se transfiere *al* sistema.\n",
    "* Si $W<0$, entonces la energía se transfiere *desde* el sistema."
   ]
  },
  {
   "cell_type": "markdown",
   "id": "02beba8a",
   "metadata": {},
   "source": [
    "---\n",
    "# Ejemplo 1\n",
    "\n",
    "Un hombre que jala una caja con una fuerza de magnitud $F=50~N$ en un ángulo $\\theta=30°$ con respecto a la horizontal. Calcule el trabajo consumido por la fuerza sobre la caja a medida que ésta se desplaza $3m$ hacia la derecha.\n",
    "\n",
    "<img src=\"../figs/trabajo_mecanico_2.jpg\" width=240 height=120 />"
   ]
  },
  {
   "cell_type": "markdown",
   "id": "898315c3",
   "metadata": {},
   "source": [
    "---\n",
    "# Ejemplo 2\n",
    "Demuestre que \n",
    "\n",
    "\\begin{equation}\n",
    " W = F \\Delta x \\cos(\\theta) = \\overrightarrow{F} \\cdot \\Delta \\overrightarrow{x} \n",
    "\\end{equation}"
   ]
  },
  {
   "cell_type": "markdown",
   "id": "501a5c2e",
   "metadata": {},
   "source": [
    "---\n",
    "# Ejemplo 3\n",
    "Sean $\\overrightarrow{u}  = 2\\hat{i} + 3\\hat{j}$ y $\\overrightarrow{v} = -\\hat{i} + 2\\hat{j}$, determine:\n",
    "* $\\overrightarrow{u}\\cdot\\overrightarrow{v}$\n",
    "* El ángulo $\\theta$ entre $\\overrightarrow{u}$ y $\\overrightarrow{v}$."
   ]
  },
  {
   "cell_type": "markdown",
   "id": "b56dcfc2",
   "metadata": {},
   "source": [
    "---\n",
    "# Ejemplo 4\n",
    "Una partícula en el plano $xy$ se somete a un desplazamiento dado por la siguiente ecuación $\\overrightarrow{x} =  (2\\hat{i} + 3\\hat{j})~ m$ cuando una fuerza constante $\\overrightarrow{F} = (5\\hat{i} + 2 \\hat{j})~N$ actúa sobre la partícula.\n",
    "\n",
    "* Calcule la magnitud de la fuerza y el desplazamiento de la partícula.\n",
    "* El trabajo consumid por $\\overrightarrow{F}$ en la partícula."
   ]
  },
  {
   "cell_type": "markdown",
   "id": "723d89f5",
   "metadata": {},
   "source": [
    "---\n",
    "# Trabajo consumido por una fuerza variable\n",
    "Considere que una partícula se desplaza a lo largo del eje $x$ bajo la acción de una fuerza que varía su posición a lo largo del tiempo. La partícula se desplaza hacia la derecha desde $x=x_{i}$ a $x=x_{f}$. En esta situación no podemos aplicar $W = F\\Delta x \\cos(\\theta)$ porque **sólo lo podemos aplicar cuando $\\overrightarrow{F}$ es constante en magnitud y dirección**. No obstante, si la partícula experimenta un desplazamiento $\\Delta x$, la compontente $x$ de la fuerza $F_{x}$ es aproximadamente constante. En este caso, podemos hacer la aproximación mediante la siguiente expresión\n",
    "\n",
    "\\begin{equation}\n",
    " W \\approx F_{x}\\Delta x.\n",
    "\\end{equation}\n",
    "\n",
    "Si consideramos que $F_{x}$ está en función de la curva $x$ y la dividimos en una cantidad de intervalos, el trabajo total consumido por el desplazamiento desde $x_{i}$ hasta $x_{f}$ está dado por la siguiente ecuación\n",
    "\n",
    "\\begin{equation}\n",
    " W \\approx \\sum_{x_{i}}^{x_{f}} F_{x}\\Delta x.\n",
    "\\end{equation}\n",
    "\n",
    "Se puede aumentar el tamaño de desplazamientos y aproximarlos a cero. Esto implica que el número de términos aumenta y que el valor de la sumatoria se aproxima a un valor definido\n",
    "\n",
    "\\begin{equation}\n",
    " \\lim \\limits_{\\Delta x \\rightarrow 0} \\sum_{x_{i}}^{x_{f}} F_{x}\\Delta x = \\int_{x_{i}}^{x_{f}} F_{x}\\mathrm{d}x.\n",
    "\\end{equation}\n",
    "\n",
    "Por consiguiente, el trabajo invertido por $F_{x}$ en la partícula conforme se desplaza de $x_{i}$ a $x_{f}$ se expresa como sigue\n",
    "\n",
    "\\begin{equation}\n",
    " W = \\int_{x_{i}}^{x_{f}} F_{x}\\mathrm{d}x.\n",
    "\\end{equation}\n",
    "\n",
    "Si en el sistema interactúan más de una fuerza y el sistema se puede modelar como una partícula, el trabajo total consumido en el sistema es el trabajo invertido por la fuerza neta. Esto es\n",
    "\n",
    "\\begin{equation}\n",
    " \\sum W = W_{\\text{neto}} = \\int_{x_{i}}^{x_{f}} \\left( \\sum F_{x} \\right)\\mathrm{d}x.\n",
    "\\end{equation}\n",
    "\n",
    "Cuando la magnitud y dirección de $\\sum \\overrightarrow{F}$ varía, podemos aplicar el producto escalar\n",
    "\n",
    "\\begin{equation}\n",
    " \\sum W = W_{\\text{neto}} = \\int \\left( \\sum \\overrightarrow{F} \\right) \\cdot \\mathrm{d}\\overrightarrow{x}\n",
    "\\end{equation}"
   ]
  },
  {
   "cell_type": "markdown",
   "id": "97aa30ba",
   "metadata": {},
   "source": [
    "---\n",
    "# Ejemplo 5\n",
    "Un bloque de masa $m$ sobre una superficie horizontal sin fricción se conecta a un resorte. Si el resorte está estirado o comprimido, ejerce en el bloque una fuerza $F_s$ representada matemáticamente como sigue\n",
    "\n",
    "\\begin{equation}\n",
    " \\label{Fs}\n",
    " F_{s} = -kx,\n",
    "\\end{equation}\n",
    "\n",
    "donde $x$ es la posición del bloque con respecto a su posición de equilibrio ($x = 0$) y $k>0$ denota una **constante de fuerza** o **constante de tensión** del resorte.\n",
    "\n",
    "De lo anterior, observamos que la fuerza requerida para estirar o comprimir el resorte es proporcional a la cantidad de estiramiento o compresión $x$. A esta ley se le conoce como **Ley de Hooke**. ¿Cuál es la unidad de $k$?\n",
    "\n",
    "Una representación vectorial de la Ec. \\eqref{Fs}, está dada como sigue\n",
    "\n",
    "\\begin{equation}\n",
    " \\overrightarrow{F}_{s} = F_{s}\\hat{i} = -kx\\hat{i},\n",
    "\\end{equation}\n",
    "\n",
    "donde el eje $x$ se eligió en la dirección de extensión o compresión del resorte."
   ]
  },
  {
   "cell_type": "markdown",
   "id": "5045bf8c",
   "metadata": {},
   "source": [
    "Suponga que el bloque se empuja hacia la izquierda hacia una posición $-x_{\\max}$ y después se deja de empujar. Si consideramos al bloque como sistema y calculamos el trabajo $W_{s}$ invertido por la fuerza del resorte en el bloque conforme hay un desplazamiento de $x_{i} = -x_{\\max}$ a $x_{f} = 0$ podemos obtener $W_{s}$ si el bloque es modelado como una partícula *i.e.*\n",
    "\n",
    "\\begin{equation}\n",
    " W_{s} = \\int \\overrightarrow{F}_{s} \\cdot \\mathrm{d}\\overrightarrow{x} = \\int_{x_{i}}^{x_{f}}(-kx\\hat{i})\\cdot (\\mathrm{d}x\\hat{i}) = \\int_{-x_{\\max}}^{0} (-kx)\\mathrm{d}x = \\frac{1}{2}kx^{2}_{\\max}.\n",
    "\\end{equation}\n",
    "\n",
    "Si un bloque se somete a un desplazamiento arbitrario desde $x_{i}$ hasta $x_{f}$, el trabajo invertido por la fuerza del resorte en el bloque es \n",
    "\n",
    "\\begin{equation}\n",
    " W_{s} = \\int_{x_{i}}^{x_{f}} (-kx)\\mathrm{d}x = \\frac{1}{2}kx_{i}^{2} - \\frac{1}{2}kx_{f}^{2}.\n",
    "\\end{equation}\n",
    "\n",
    "Si una fuerza externa interactúa en el sistema y ésta se aplica sobre el bloque para moverlo lentamente desde $x_{i}$ hasta $x_{f}$, se puede calcular el trabajo en cualquier posición considerando que la fuerza aplicada $\\overrightarrow{F}_{\\text{ap}}$ es igual en magnitud y opuesta en dirección a la fuerza del resorte $\\overrightarrow{F}_{s}$, *i.e.*\n",
    "\n",
    "\\begin{equation}\n",
    " \\overrightarrow{F}_{\\text{ap}} = F_{\\text{ap}}\\hat{i} = -\\overrightarrow{F}_{s} = -(-kx\\hat{i}) = kx\\hat{i}\n",
    "\\end{equation}\n",
    "\n",
    "Debido a lo anterior, el trabajo realizado por la fuerza externa en el sistema masa-resorte es\n",
    "\n",
    "\\begin{equation}\n",
    " W_\\text{ap} = \\int \\overrightarrow{F}_{\\text{ap}} \\cdot \\mathrm{d}\\overrightarrow{x} = \\int_{x_{i}}^{x_{f}}(kx\\hat{i})\\cdot(\\mathrm{d}x\\hat{i}) = \\int_{-x_{\\max}}^{0} kx\\mathrm{d}x = -\\frac{1}{2}kx^{2}_{\\max}\n",
    "\\end{equation}\n",
    "\n",
    "¿Qué implica que el trabajo sea negativo?"
   ]
  },
  {
   "cell_type": "markdown",
   "id": "c1fa4e87",
   "metadata": {},
   "source": [
    "---\n",
    "# Ejemplo 6\n",
    "1. Un resorte cuelga verticalmente con un objeto de masa $m$ unido a su extremo inferior como se muestra a continuación. Bajo la acción de la carga $mg$, el resorte se estira una distancia $d$ desde su posición de equilibrio.\n",
    "\n",
    " 1. Si el resorte se estira $4~cm$ por un objeto de masa de $0.70~kg$, ¿cuál es la constante de fuerza del resorte?\n",
    "\n",
    "2. Un bloque de $3.5~kg$ de masa se empuja $2.2~m$ a lo largo de una mesa horizontal sin fricción por una fuerza constante de $16~N$ dirigida $25°$ debajo de la horizontal. Determine el trabajo invertido sobre el bloque por\n",
    " 1. La fuerza aplicada.\n",
    " 2. La fuerza normal que ejerce la mesa.\n",
    " 3. La fuerza gravitacional.\n",
    " 4. Determine el trabajo neto invertido en el bloque.\n",
    " \n",
    "3. Una gota de lluvia de $2.35\\times 10^{-5}~kg$ de masa cae verticalmente con rapidez constante bajo la influencia de la gravedad y la resistencia del aire. Modele la gota como partícula. Mientras cae 100 m, ¿cuál es el trabajo consumido en la gota\n",
    " 1. Por la fuerza gravitacional\n",
    " 2. Por la resistencia del aire\n",
    " \n",
    "4. Batman, cuya masa es la misma que Leonardo, está colgado en el extremo libre de una soga de $12~m$, el otro extremo está fijo de la rama de un árbol arriba de él. Al flexionar repetidamente la cintura, hace que la soga se ponga en movimiento, y eventualmente la hace balancear lo suficiente para que pueda llegar a una repisa cuando la soga forma un ángulo de $60°$ con la vertical. ¿Cuánto trabajo invirtió la fuerza gravitacional en Batman en esta maniobra?"
   ]
  },
  {
   "cell_type": "markdown",
   "id": "0240cf90",
   "metadata": {},
   "source": [
    "# Ejercicios clase\n",
    "1. La fuerza que actúa en una partícula es $F_{x} = (8x - 16)~ N$, donde $x$ está en metros.\n",
    " 1. Grafique esta fuerza con x desde $x = 0$ hasta $x = 3~ m$\n",
    " 2. A partir de su gráfica, encuentre el trabajo neto realizado por esta fuerza sobre la partícula conforme se traslada de $x = 0$ a $x = 3~ m$.\n",
    " \n",
    "2. La fuerza que actúa sobre una partícula varía como se muestra\n",
    "en la siguiente Figura. Encuentre el trabajo invertido por la fuerza en\n",
    "la partícula conforme se mueve\n",
    " 1. de $x = 0$ a $x = 8~ m$.\n",
    " 2. de $x = 8~ m$ a $x = 10~m$.\n",
    " 3. de $x = 0$ a $x = 10~ m$.\n",
    " \n",
    "<img src=\"../figs/ejercicio_2_w.png\" width=240 height=120 />"
   ]
  },
  {
   "cell_type": "code",
   "execution_count": 1,
   "id": "e653fe72",
   "metadata": {},
   "outputs": [],
   "source": [
    "import numpy as np\n",
    "import matplotlib.pyplot as plt"
   ]
  },
  {
   "cell_type": "code",
   "execution_count": 3,
   "id": "81c13a25",
   "metadata": {},
   "outputs": [],
   "source": [
    "%matplotlib inline"
   ]
  },
  {
   "cell_type": "code",
   "execution_count": 2,
   "id": "05c28ddf",
   "metadata": {},
   "outputs": [],
   "source": [
    "x = np.linspace(0,3,100)\n",
    "Fx = (8*x-16)"
   ]
  },
  {
   "cell_type": "code",
   "execution_count": 5,
   "id": "4e5c8afa",
   "metadata": {},
   "outputs": [
    {
     "data": {
      "text/plain": [
       "Text(0, 0.5, 'Fx')"
      ]
     },
     "execution_count": 5,
     "metadata": {},
     "output_type": "execute_result"
    },
    {
     "data": {
      "image/png": "[encoded data removed]",
      "text/plain": [
       "<Figure size 432x288 with 1 Axes>"
      ]
     },
     "metadata": {
      "needs_background": "light"
     },
     "output_type": "display_data"
    }
   ],
   "source": [
    "plt.figure()\n",
    "plt.plot(x,Fx)\n",
    "plt.grid()\n",
    "plt.xlabel('x')\n",
    "plt.ylabel('Fx')"
   ]
  },
  {
   "cell_type": "markdown",
   "id": "a8a6f759",
   "metadata": {},
   "source": [
    "# Energía cinética y potencial\n",
    "Considere un bloque que se mueve a través de un desplazamiento $\\Delta x \\hat{i} = (x_{f} - x_{i})\\hat{i}$, se puede obtener el trabajo neto realizado sobre el bloque por la fuerza $\\sum \\overrightarrow{F}$ como sigue\n",
    "\n",
    "\\begin{equation}\n",
    " W_{\\text{neto}} = \\int_{x_{i}}^{x_{f}} \\sum F \\mathrm{d}x.\n",
    "\\end{equation}\n",
    "\n",
    "Aplicando la **segunda Ley de Newton** y sustituyendo $\\overrightarrow{F}$, *i.e.*\n",
    "\n",
    "\\begin{equation}\n",
    " W_{\\text{neto}} = \\int_{x_{i}}^{x_{f}} ma~ \\mathrm{d}x,\n",
    "\\end{equation}\n",
    "\n",
    "Aplicando la regla de la cadena\n",
    "\n",
    "\\begin{equation}\n",
    " W_{\\text{neto}} = \\int_{x_{i}}^{x_{f}} m \\frac{\\mathrm{d}v}{\\mathrm{d}t}~ \\mathrm{d}x = \\int_{x_{i}}^{x_{f}} m \\frac{\\mathrm{d}v}{\\mathrm{d}x} \\frac{\\mathrm{d}x}{\\mathrm{d}t} = \\int_{x_{i}}^{x_{f}}mv~\\mathrm{d}v,\n",
    "\\end{equation}\n",
    "\n",
    "\\begin{equation}\n",
    " W_{\\text{neto}} = \\frac{1}{2}mv_{f}^{2} - \\frac{1}{2}mv_{i}^{2},\n",
    "\\end{equation}\n",
    "\n",
    "donde $v_{i}$ es la rapidez del bloque cuando está en $x = x_{i}$ y $v_{f}$ es su rapidez en $x_{f}$. La cantidad $\\frac{1}{2} mv^{2}$ representa la energía asociada con el movimiento de la partícula y se le conoce como **energía cinética**.\n",
    "\n",
    "\\begin{equation}\n",
    " K \\equiv \\frac{1}{2} mv^{2}.\n",
    "\\end{equation}\n",
    "\n",
    "**Nota.** $K$ es una cantidad escalar y tiene las mismas unidades que $W$.\n",
    "\n",
    "El trabajo realizado en una partícula por una fuerza $\\sum \\overrightarrow{F}$ que actúa sobre él es igual al cambio en energía cinética de la partícula.\n",
    "\n",
    "\\begin{equation}\n",
    " W_{\\text{neto}} = K_{f} - K_{i} = \\Delta K.\n",
    "\\end{equation}\n",
    "\n",
    "---\n",
    "\n",
    "# Ejemplo \n",
    "1. Un bloque de masa $m$, inicialmente en reposo, se jala hacia la derecha, a lo largo de una superficie horizontal sin fricción, mediante una fuerza horizontal constante $F$. Encuentre la rapidez del bloque después de que se ha movido $n$ m.\n",
    "\n",
    "---\n",
    "\n",
    "> Cuando se consume trabajo en un sistema, y el único cambio en el sistema es en su rapidez, el trabajo neto consumido en el sistema es igual al cambio en energía cinética del sistema.\n",
    "\n",
    "El teorema trabajo-energía indica:\n",
    "\n",
    "* La rapidez de un sistema **aumenta** si $W_{\\text{neto}}$ invertido sobre él es positivo.\n",
    "* La rapidez **disminuye** si $W_{\\text{neto}}$ es negativo.\n",
    "\n",
    "Cuando $W$ representa una transferencia de energía al sistema y la energía del sistema aparece en una forma diferente, se le conoce como **energía potencial.** Dicha cantidad se puede obtener al considerar $mgy$ y llamarse **energía potencial gravitacional** $U_{g}$\n",
    "\n",
    "\\begin{equation}\n",
    " \\label{ug}\n",
    " U_{g} =\\equiv mgy.\n",
    "\\end{equation}\n",
    "\n",
    "Las unidades de $U_{g}$ son las mismas que las de $W$ y $K$.\n",
    "\n",
    "**Nota.** La Ec. (\\ref{ug}) sólo es válida para objetos cerca de la superficie de la Tierra. Utilizando la definición $U_{g}$, podemos reescribir $W_{\\text{neto}}$ como sigue\n",
    "\n",
    "\\begin{equation}\n",
    " W_{\\text{neto}} = \\Delta U_{g}.\n",
    "\\end{equation}\n",
    "\n",
    "Aquí, $U_{g}$ depende sólo de la altura vertical del objeto sobre la superficie de la Tierra.\n",
    "\n",
    "---\n",
    "\n",
    "# Ejemplo\n",
    "1. Una bola de boliche sostenida por un bolichista descuidado se desliza de sus manos y cae sobre un dedo de su pie. Si elige el nivel del suelo como el punto $y = y_{0}$ de su sistema coordenado, estime el cambio en energía potencial gravitacional del sistema bola–Tierra mientras cae la bola. Repita el cálculo usando la coronilla de la cabeza del bolichista como el origen de coordenadas.\n",
    "\n",
    "---\n",
    "\n",
    "Otro tipo de energía que puede tener un sistema es la energía potencial elástica que expresa que el $W$ invertido en el sistema es igual a la diferencia entre los valores inicial y final. Por ejemplo, considera un sistema masa resorte amortiguador.\n",
    "\n",
    "<img src=\"../figs/mass_spring.png\" width=340 height=220 />\n",
    "\n",
    "La **energía potencial elástica** se define por la siguiente ecuación\n",
    "\n",
    "\\begin{equation}\n",
    " U_{s} \\equiv \\frac{1}{2}kx^{2}.\n",
    "\\end{equation}\n",
    "\n",
    "Lo anterior se puede interpretar como la energía almacenada en el resorte independientemente de si éste se encuentra comprimido o estirado tomando como referencia su posición de equilibrio. Además, tenemos que la energía potencial es cero si $x=0$."
   ]
  },
  {
   "cell_type": "markdown",
   "id": "ddfca3cf",
   "metadata": {},
   "source": [
    "# Fuerzas conservativas y no conservativas\n",
    "Las **fuerzas conservativas** tiene las siguientes propiedades equivalentes:\n",
    "\n",
    "1. La trayectoria que toma una partícula no influye en el trabajo invertido por una fuerza conservativa sobre una partícula móvil entre dos puntos cualesquiera.\n",
    "2. El trabajo invertido por una fuerza conservativa en una partícula móvil en donde su punto de partida es idéntico al punto final es cero.\n",
    "\n",
    "Por otro lado, las **fuerzas no conservativas** no satisfacen las propiedades anteriores.\n",
    "\n",
    "La **energía mecánica** de un sistema se define como la suma de las energías cinética y potencial *i.e*\n",
    "\n",
    "\\begin{equation}\n",
    " E_{\\text{mec}}  \\equiv K + U,\n",
    "\\end{equation}\n",
    "\n",
    "donde $K$ denota la energía cinética total del sistema y $U$ la energía potencial total en el sistema."
   ]
  },
  {
   "cell_type": "markdown",
   "id": "ff0708c6",
   "metadata": {},
   "source": [
    "--- \n",
    "# Ejercicios\n",
    "1. Una partícula de masa $m$ tiene una rapidez $v$ en el punto $\\circleddash$ y energía cinética $K$ en el punto $\\circledcirc$. ¿Cuáles son \n",
    " 1. su energía cinética en $\\circleddash$\n",
    " 2. su rapidez en $\\circledcirc$\n",
    " 3. el trabajo neto invertido en la partícula conforme se mueve de $\\circleddash$ a $\\circledcirc$?\n",
    " \n",
    "2. Un objeto de masa $m$ tiene una velocidad de $(a\\hat{i} - b\\hat{j})~ m/s$.\n",
    " 1. ¿Cuál es su energía cinética en este momento?\n",
    " 2. ¿Cuál es el trabajo neto invertido en el objeto si su velocidad cambia a $(c \\hat{i} + d \\hat{j})~m/s$?\n",
    " \n",
    "3. Un martinete de masa $m$ se usa para enterrar una viga I de acero en la tierra. El martinete cae $n~m$ antes de quedar en contacto con la parte superior de la viga. Después clava la viga $p~cm$ más en el suelo mientras llega al reposo. Aplicando consideraciones de energía, calcule la fuerza promedio que la viga ejerce sobre el martinete mientras éste llega al reposo.\n",
    "\n",
    "4. Un niño de 400 N está en un columpio unido a cuerdas de $n~m$ de largo. Encuentre la energía potencial gravitacional del sistema niño–Tierra en relación con la posición más baja del niño cuando\n",
    " 1. las cuerdas están horizontales\n",
    " 2. las cuerdas forman un ángulo de $\\theta°$ con la vertical\n",
    " 3. el niño está en el fondo del arco circular.\n",
    " \n",
    "5. Suponga que una fuerza constante actúa en un objeto. La fuerza no varía con el tiempo o con la posición o la velocidad del objeto. Comience con la definición general del trabajo invertido por una fuerza y demuestre que la fuerza es conservativa.\n",
    "\n",
    "\\begin{equation}\n",
    " W = \\int_{i}^{f} \\overrightarrow{F}\\cdot\\mathrm{d}\\overrightarrow{r},\n",
    "\\end{equation}"
   ]
  }
 ],
 "metadata": {
  "hide_input": false,
  "kernelspec": {
   "display_name": "Python 3 (ipykernel)",
   "language": "python",
   "name": "python3"
  },
  "language_info": {
   "codemirror_mode": {
    "name": "ipython",
    "version": 3
   },
   "file_extension": ".py",
   "mimetype": "text/x-python",
   "name": "python",
   "nbconvert_exporter": "python",
   "pygments_lexer": "ipython3",
   "version": "3.10.4"
  }
 },
 "nbformat": 4,
 "nbformat_minor": 5
}
