{
 "cells": [
  {
   "cell_type": "markdown",
   "id": "3bd08502",
   "metadata": {},
   "source": [
    "<img src=\"../figs/logo_ENESJ.png\" width=140 height=120 />\n",
    "\n",
    "# Mecánica clásica\n",
    "##  Semestre 2022-2 \n",
    "\n",
    "### Profr. Jesús Emmanuel Solís Pérez\n",
    "### jsolisp@unam.mx\n",
    "---"
   ]
  },
  {
   "cell_type": "markdown",
   "id": "d07f42df",
   "metadata": {},
   "source": [
    "# Unidad IV. Trabajo y energía.\n",
    "\n",
    "Considere la siguiente imagen\n",
    "\n",
    "<img src=\"../figs/trabajo_mecanico.png\" width=140 height=120 />\n",
    "\n",
    "Una persona aplica una fuerza $\\overrightarrow{F}$ a una mesa para deslizarla sobre un plano horizontal. Para saber cuán efectiva es la fuerza necesaria para moverla se debe considerar la magnitud y dirección de $\\overrightarrow{F}$. También el desplazamiento $\\Delta \\overrightarrow{x}$ si se requiere determinar el trabajo invertido.\n",
    "\n",
    "El **trabajo** $W$ realizado por un agente sobre un sistema es el producto de la magnitud de la fuerza $F$, la magnitud del desplazamiento $\\Delta x$ y el $\\cos(\\theta)$\n",
    "\n",
    "\\begin{equation}\n",
    " W \\equiv F \\Delta x\\cos(\\theta),\n",
    "\\end{equation}\n",
    "\n",
    "donde $\\theta$ es el ángulo entre los vectores fuerza y desplazamiento $\\Delta x$.\n",
    "\n",
    "El signo de $W$ depende de la dirección de $\\overrightarrow{F}$ en relación con $\\Delta \\overrightarrow{x}$.\n",
    "\n",
    "* $W>0$, cuando la proyección de $\\overrightarrow{F}$ sobre $\\Delta \\overrightarrow{x}$ está en la misma dirección que $\\Delta x$.\n",
    "\n",
    "* $W<0$, cuando la proyección de $\\overrightarrow{F}$ sobre $\\Delta \\overrightarrow{x}$ está en la dirección contraria de $\\Delta x$.\n",
    "\n",
    "Si una fuerza $\\overrightarrow{F}$ está en la mista dirección que $\\Delta x$, implica que $\\theta )=0$ y por consiguiente\n",
    "\n",
    "\\begin{equation}\n",
    "W = F \\Delta x.\n",
    "\\end{equation}\n",
    "\n",
    "Las unidades de $W$ son las de fuerza multiplicada por longitud. La unidad de trabajo es el $N\\cdot m = kg\\cdot m^{2}/s^{2}$. Esta combinación se le conoce como **Joule**($J$).\n",
    "\n",
    "**Nota**. Es importante considar que el trabajo es una transferencia de energía. Lo que nos dice\n",
    "\n",
    "* Si $W>0$, entonces la energía se transfiere *al* sistema.\n",
    "* Si $W<0$, entonces la energía se transfiere *desde* el sistema."
   ]
  },
  {
   "cell_type": "markdown",
   "id": "02beba8a",
   "metadata": {},
   "source": [
    "---\n",
    "# Ejemplo 1\n",
    "\n",
    "Un hombre que jala una caja con una fuerza de magnitud $F=50~N$ en un ángulo $\\theta=30°$ con respecto a la horizontal. Calcule el trabajo consumido por la fuerza sobre la caja a medida que ésta se desplaza $3m$ hacia la derecha.\n",
    "\n",
    "<img src=\"../figs/trabajo_mecanico_2.jpg\" width=240 height=120 />"
   ]
  },
  {
   "cell_type": "markdown",
   "id": "898315c3",
   "metadata": {},
   "source": [
    "---\n",
    "# Ejemplo 2\n",
    "Demuestre que \n",
    "\n",
    "\\begin{equation}\n",
    " W = F \\Delta x \\cos(\\theta) = \\overrightarrow{F} \\cdot \\Delta \\overrightarrow{x} \n",
    "\\end{equation}"
   ]
  },
  {
   "cell_type": "markdown",
   "id": "501a5c2e",
   "metadata": {},
   "source": [
    "---\n",
    "# Ejemplo 3\n",
    "Sean $\\overrightarrow{u}  = 2\\hat{i} + 3\\hat{j}$ y $\\overrightarrow{v} = -\\hat{i} + 2\\hat{j}$, determine:\n",
    "* $\\overrightarrow{u}\\cdot\\overrightarrow{v}$\n",
    "* El ángulo $\\theta$ entre $\\overrightarrow{u}$ y $\\overrightarrow{v}$."
   ]
  },
  {
   "cell_type": "markdown",
   "id": "b56dcfc2",
   "metadata": {},
   "source": [
    "---\n",
    "# Ejemplo 4\n",
    "Una partícula en el plano $xy$ se somete a un desplazamiento dado por la siguiente ecuación $\\overrightarrow{x} =  (2\\hat{i} + 3\\hat{j})~ m$ cuando una fuerza constante $\\overrightarrow{F} = (5\\hat{i} + 2 \\hat{j})~N$ actúa sobre la partícula.\n",
    "\n",
    "* Calcule la magnitud de la fuerza y el desplazamiento de la partícula.\n",
    "* El trabajo consumid por $\\overrightarrow{F}$ en la partícula."
   ]
  },
  {
   "cell_type": "markdown",
   "id": "723d89f5",
   "metadata": {},
   "source": [
    "---\n",
    "# Trabajo consumido por una fuerza variable\n",
    "Considere que una partícula se desplaza a lo largo del eje $x$ bajo la acción de una fuerza que varía su posición a lo largo del tiempo. La partícula se desplaza hacia la derecha desde $x=x_{i}$ a $x=x_{f}$. En esta situación no podemos aplicar $W = F\\Delta x \\cos(\\theta)$ porque **sólo lo podemos aplicar cuando $\\overrightarrow{F}$ es constante en magnitud y dirección**. No obstante, si la partícula experimenta un desplazamiento $\\Delta x$, la compontente $x$ de la fuerza $F_{x}$ es aproximadamente constante. En este caso, podemos hacer la aproximación mediante la siguiente expresión\n",
    "\n",
    "\\begin{equation}\n",
    " W \\approx F_{x}\\Delta x.\n",
    "\\end{equation}\n",
    "\n",
    "Si consideramos que $F_{x}$ está en función de la curva $x$ y la dividimos en una cantidad de intervalos, el trabajo total consumido por el desplazamiento desde $x_{i}$ hasta $x_{f}$ está dado por la siguiente ecuación\n",
    "\n",
    "\\begin{equation}\n",
    " W \\approx \\sum_{x_{i}}^{x_{f}} F_{x}\\Delta x.\n",
    "\\end{equation}\n",
    "\n",
    "Se puede aumentar el tamaño de desplazamientos y aproximarlos a cero. Esto implica que el número de términos aumenta y que el valor de la sumatoria se aproxima a un valor definido\n",
    "\n",
    "\\begin{equation}\n",
    " \\lim \\limits_{\\Delta x \\rightarrow 0} \\sum_{x_{i}}^{x_{f}} F_{x}\\Delta x = \\int_{x_{i}}^{x_{f}} F_{x}\\mathrm{d}x.\n",
    "\\end{equation}\n",
    "\n",
    "Por consiguiente, el trabajo invertido por $F_{x}$ en la partícula conforme se desplaza de $x_{i}$ a $x_{f}$ se expresa como sigue\n",
    "\n",
    "\\begin{equation}\n",
    " W = \\int_{x_{i}}^{x_{f}} F_{x}\\mathrm{d}x.\n",
    "\\end{equation}\n",
    "\n",
    "Si en el sistema interactúan más de una fuerza y el sistema se puede modelar como una partícula, el trabajo total consumido en el sistema es el trabajo invertido por la fuerza neta. Esto es\n",
    "\n",
    "\\begin{equation}\n",
    " \\sum W = W_{\\text{neto}} = \\int_{x_{i}}^{x_{f}} \\left( \\sum F_{x} \\right)\\mathrm{d}x.\n",
    "\\end{equation}\n",
    "\n",
    "Cuando la magnitud y dirección de $\\sum \\overrightarrow{F}$ varía, podemos aplicar el producto escalar\n",
    "\n",
    "\\begin{equation}\n",
    " \\sum W = W_{\\text{neto}} = \\int \\left( \\sum \\overrightarrow{F} \\right) \\cdot \\mathrm{d}\\overrightarrow{x}\n",
    "\\end{equation}"
   ]
  },
  {
   "cell_type": "markdown",
   "id": "97aa30ba",
   "metadata": {},
   "source": [
    "---\n",
    "# Ejemplo 5\n",
    "Un bloque de masa $m$ sobre una superficie horizontal sin fricción se conecta a un resorte. Si el resorte está estirado o comprimido, ejerce en el bloque una fuerza $F_s$ representada matemáticamente como sigue\n",
    "\n",
    "\\begin{equation}\n",
    " \\label{Fs}\n",
    " F_{s} = -kx,\n",
    "\\end{equation}\n",
    "\n",
    "donde $x$ es la posición del bloque con respecto a su posición de equilibrio ($x = 0$) y $k>0$ denota una **constante de fuerza** o **constante de tensión** del resorte.\n",
    "\n",
    "De lo anterior, observamos que la fuerza requerida para estirar o comprimir el resorte es proporcional a la cantidad de estiramiento o compresión $x$. A esta ley se le conoce como **Ley de Hooke**. ¿Cuál es la unidad de $k$?\n",
    "\n",
    "Una representación vectorial de la Ec. \\eqref{Fs}, está dada como sigue\n",
    "\n",
    "\\begin{equation}\n",
    " \\overrightarrow{F}_{s} = F_{s}\\hat{i} = -kx\\hat{i},\n",
    "\\end{equation}\n",
    "\n",
    "donde el eje $x$ se eligió en la dirección de extensión o compresión del resorte."
   ]
  },
  {
   "cell_type": "markdown",
   "id": "5045bf8c",
   "metadata": {},
   "source": [
    "Suponga que el bloque se empuja hacia la izquierda hacia una posición $-x_{\\max}$ y después se deja de empujar. Si consideramos al bloque como sistema y calculamos el trabajo $W_{s}$ invertido por la fuerza del resorte en el bloque conforme hay un desplazamiento de $x_{i} = -x_{\\max}$ a $x_{f} = 0$ podemos obtener $W_{s}$ si el bloque es modelado como una partícula *i.e.*\n",
    "\n",
    "\\begin{equation}\n",
    " W_{s} = \\int \\overrightarrow{F}_{s} \\cdot \\mathrm{d}\\overrightarrow{x} = \\int_{x_{i}}^{x_{f}}(-kx\\hat{i})\\cdot (\\mathrm{d}x\\hat{i}) = \\int_{-x_{\\max}}^{0} (-kx)\\mathrm{d}x = \\frac{1}{2}kx^{2}_{\\max}.\n",
    "\\end{equation}\n",
    "\n",
    "Si un bloque se somete a un desplazamiento arbitrario desde $x_{i}$ hasta $x_{f}$, el trabajo invertido por la fuerza del resorte en el bloque es \n",
    "\n",
    "\\begin{equation}\n",
    " W_{s} = \\int_{x_{i}}^{x_{f}} (-kx)\\mathrm{d}x = \\frac{1}{2}kx_{i}^{2} - \\frac{1}{2}kx_{f}^{2}.\n",
    "\\end{equation}\n",
    "\n",
    "Si una fuerza externa interactúa en el sistema y ésta se aplica sobre el bloque para moverlo lentamente desde $x_{i}$ hasta $x_{f}$, se puede calcular el trabajo en cualquier posición considerando que la fuerza aplicada $\\overrightarrow{F}_{\\text{ap}}$ es igual en magnitud y opuesta en dirección a la fuerza del resorte $\\overrightarrow{F}_{s}$, *i.e.*\n",
    "\n",
    "\\begin{equation}\n",
    " \\overrightarrow{F}_{\\text{ap}} = F_{\\text{ap}}\\hat{i} = -\\overrightarrow{F}_{s} = -(-kx\\hat{i}) = kx\\hat{i}\n",
    "\\end{equation}\n",
    "\n",
    "Debido a lo anterior, el trabajo realizado por la fuerza externa en el sistema masa-resorte es\n",
    "\n",
    "\\begin{equation}\n",
    " W_\\text{ap} = \\int \\overrightarrow{F}_{\\text{ap}} \\cdot \\mathrm{d}\\overrightarrow{x} = \\int_{x_{i}}^{x_{f}}(kx\\hat{i})\\cdot(\\mathrm{d}x\\hat{i}) = \\int_{-x_{\\max}}^{0} kx\\mathrm{d}x = -\\frac{1}{2}kx^{2}_{\\max}\n",
    "\\end{equation}\n",
    "\n",
    "¿Qué implica que el trabajo sea negativo?"
   ]
  }
 ],
 "metadata": {
  "hide_input": false,
  "kernelspec": {
   "display_name": "Python 3 (ipykernel)",
   "language": "python",
   "name": "python3"
  },
  "language_info": {
   "codemirror_mode": {
    "name": "ipython",
    "version": 3
   },
   "file_extension": ".py",
   "mimetype": "text/x-python",
   "name": "python",
   "nbconvert_exporter": "python",
   "pygments_lexer": "ipython3",
   "version": "3.10.4"
  }
 },
 "nbformat": 4,
 "nbformat_minor": 5
}
