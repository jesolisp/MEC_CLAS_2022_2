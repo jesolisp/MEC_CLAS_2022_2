{
  "cells": [
    {
      "cell_type": "markdown",
      "metadata": {
        "id": "view-in-github",
        "colab_type": "text"
      },
      "source": [
        "<a href=\"https://colab.research.google.com/github/jesolisp/MEC_CLAS_2022_2/blob/main/notebooks/Ejercicios_UII.ipynb\" target=\"_parent\"><img src=\"https://colab.research.google.com/assets/colab-badge.svg\" alt=\"Open In Colab\"/></a>"
      ]
    },
    {
      "cell_type": "markdown",
      "id": "79a8fc84",
      "metadata": {
        "id": "79a8fc84"
      },
      "source": [
        "<img src=\"../figs/logo_ENESJ.png\" width=140 height=120 />\n",
        "\n",
        "# Mecánica clásica\n",
        "##  Semestre 2022-2 \n",
        "\n",
        "### Profr. Jesús Emmanuel Solís Pérez\n",
        "### jsolisp@unam.mx\n",
        "---"
      ]
    },
    {
      "cell_type": "markdown",
      "id": "306207a2",
      "metadata": {
        "id": "306207a2"
      },
      "source": [
        "1. En la siguiente figura se muestra una gráfica velocidad-tiempo de un objeto que se mueve a lo largo del eje $x$.\n",
        "   1. Trace una ráfica de la aceleración en función del tiempo.\n",
        "   2. Determine la aceleración promedio del objeto en los intervalos de tiempo $t=5~s$ a $t=15~s$; $t=0~s$ a $t=20~s$\n",
        "   \n",
        "<img src=\"../figs/grafica_ejercicio_1.png\" width=340 height=420 />\n",
        "\n",
        "2.  Una niña rueda una canica sobre una pista con dobleces que mide $100~cm$ de largo, como se muestra en la siguiente figura. Use $x$ para representar la posición de la canica a lo largo de la pista. En las secciones horizontales de $x= 0$ a $x= 20~ cm$ y de $x = 40 ~cm$ a $x = 60~ cm$, la canica rueda con rapidez constante. En\n",
        "las secciones de pendiente, la rapidez de la canica cambia de manera uniforme. En los lugares donde la pendiente cambia, la canica permanece en la pista y no experimenta cambios súbitos en rapidez. La niña da a la canica cierta rapidez inicial en $x= 0$ y $t = 0$ y luego la observa rodar a $x = 90~ cm$, donde regresa, y eventualmente regresa a $x = 0$ con la misma rapidez con la que al inicio la niña la liberó. Prepare gráficas de $x$ en función de $t$, $v_x$ en función de $t$ y $a_x$ en función de $t$, alineadas verticalmente con sus ejes de tiempo idénticos, para mostrar el movimiento de la canica. No podrá colocar números distintos a cero en el eje horizontal o en los ejes de velocidad o aceleración, sino mostrar los tamaños relativos correctos en las gráficas.\n",
        "\n",
        "3.  La siguiente figura muestra una gráfica de $v_x$ en función de $t$ para el movimiento de un motociclista mientras parte del reposo y se mueve a lo largo del camino en línea recta. \n",
        "\n",
        " 1. Encuentre la aceleración promedio para el intervalo de tiempo $t = 0$ a $t = 6~ s$.\n",
        " 2. Estime el tiempo en que la aceleración tiene su mayor valor positivo y el valor de la aceleración en dicho instante. \n",
        " 3. ¿Cuándo la aceleración es cero? \n",
        " 4. Estime el máximo valor negativo de la aceleración y el tiempo en el que ocurre.\n",
        " \n",
        "<img src=\"../figs/grafica_ejercicio_2.png\" width=440 height=420 />\n",
        "\n",
        "4. Considere una porción de aire en un tubo recto que se mueve con una aceleración constante de $-4~ m/s^2$ y tiene una velocidad de $13~m/s$ a las 10:05:00 a.m., en cierta fecha.\n",
        " 1. ¿Cuál es su velocidad a las 10:05:01 a.m.?\n",
        " 2. ¿A las 10:05:02 a.m.?\n",
        " 3. ¿A las 10:05:02.5 a.m.? \n",
        " 4. ¿A las 10:05:04 a.m.? \n",
        " 5. ¿A las 10:04:59 a.m.? \n",
        " 6. Describa la forma de una gráfica de velocidad en función del tiempo para esta porción de aire. \n",
        " \n",
        "5. La siguiente figura representa parte de los datos de desempeño de un automóvil propiedad de un orgulloso estudiante de física.\n",
        " 1. Calcule la distancia total recorrida al calcular el área bajo la línea de la gráfica. \n",
        " 2. ¿Qué distancia recorre el automóvil entre los tiempos $t= 10~ s$ y $t = 40 s$?\n",
        " 3. Dibuje una gráfica de su aceleración en función del tiempo entre $t = 0$ y $t = 50~s$.\n",
        " 4. Escriba una ecuación para $x$ como función del tiempo para cada fase del movimiento, representado por \n",
        "   * 0a\n",
        "   * ab\n",
        "   * bc.\n",
        " 5. ¿Cuál es la velocidad promedio del automóvil entre $t = 0$ y $t = 50~ s$?\n",
        " \n",
        " <img src=\"../figs/grafica_ejercicio_3.png\" width=240 height=220 />"
      ]
    }
  ],
  "metadata": {
    "hide_input": false,
    "kernelspec": {
      "display_name": "Python 3 (ipykernel)",
      "language": "python",
      "name": "python3"
    },
    "language_info": {
      "codemirror_mode": {
        "name": "ipython",
        "version": 3
      },
      "file_extension": ".py",
      "mimetype": "text/x-python",
      "name": "python",
      "nbconvert_exporter": "python",
      "pygments_lexer": "ipython3",
      "version": "3.10.2"
    },
    "colab": {
      "name": "Ejercicios_UII.ipynb",
      "provenance": [],
      "include_colab_link": true
    }
  },
  "nbformat": 4,
  "nbformat_minor": 5
}