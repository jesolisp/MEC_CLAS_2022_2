{
 "cells": [
  {
   "cell_type": "markdown",
   "id": "5b7c8637",
   "metadata": {},
   "source": [
    "<img src=\"../figs/logo_ENESJ.png\" width=140 height=120 />\n",
    "\n",
    "# Mecánica clásica\n",
    "##  Semestre 2022-2 \n",
    "\n",
    "### Profr. Jesús Emmanuel Solís Pérez\n",
    "### jsolisp@unam.mx\n",
    "---"
   ]
  },
  {
   "cell_type": "markdown",
   "id": "821b26d0",
   "metadata": {},
   "source": [
    "----\n",
    "# Colisiones elásticas e inelásticas."
   ]
  },
  {
   "cell_type": "markdown",
   "id": "f975169d",
   "metadata": {},
   "source": [
    "**¿Qué es la energía cinética?**\n",
    "\n",
    "Se conoce como aquella *energía* que un objeto tiene debido a su *movimiento* y se puede calcular a partir de la siguiente expresión:\n",
    "\n",
    "$$\n",
    " W = F \\cdot d,\n",
    "$$\n",
    "donde $W$ es el trabajo realizado por una fuerza $F$.\n",
    "\n",
    "> Segunda ley de Newton: $F_{neta} = m \\cdot a$\n",
    "\n",
    "$$\n",
    " W = ( m \\cdot a ) \\cdot d.\n",
    "$$\n",
    "\n",
    "Recordando que $a = \\frac{v_{f}^{2} - v_{i}^{2}}{2d}$, sustituimos $a$ en la ecuación anterior:\n",
    "\n",
    "$$\n",
    " \\begin{aligned}\n",
    "  W &= m \\cdot \\frac{v_{f}^{2} - v_{i}^{2}}{2}, \\\\\n",
    "   &= \\frac{1}{2}\\cdot m \\cdot v_{f}^{2} - \\frac{1}{2}\\cdot m \\cdot v_{i}^{2}.\n",
    " \\end{aligned}\n",
    "$$\n",
    "\n",
    "Por lo tanto, llamamos *energía cinética* $K$ a la cantidad $\\frac{1}{2}\\cdot m \\cdot v^{2}$.\n",
    "\n",
    "**Consideraciones:**\n",
    "1. $K\\geq0$ mientras que $v>0$ ó $v<0$\n",
    "2. $K$ no es un vector"
   ]
  },
  {
   "cell_type": "markdown",
   "id": "ffeacc0a",
   "metadata": {},
   "source": [
    "----"
   ]
  },
  {
   "cell_type": "markdown",
   "id": "207470d1",
   "metadata": {},
   "source": [
    "**Colisión elástica**\n",
    "\n",
    "Choque de dos cuerpos ($A$ y $B$) en la cual no hay pérdida de $K$, es decir se mantiene *constante*. Este tipo de colisión se puede expresar como:\n",
    "\n",
    "$$\n",
    " K_{A_{i}} + K_{B_{i}} = K_{A_{f}} + K_{B_{f}},\n",
    "$$\n",
    "\n",
    "$$\n",
    " \\underbrace{K_{A_{i}} + K_{B_{i}}}_{K_{\\text{total}_{i}}} = \\underbrace{K_{A_{f}} + K_{B_{f}}}_{K_{\\text{total}_{f}}}.\n",
    "$$\n",
    "\n",
    "**Casos**\n",
    "\n",
    "1. El objeto $A$ choca con un objeto $B$ de igual masa que está en reposo.\n",
    "\n",
    "$$\n",
    " v_{A_{f}} = 0, \\quad v_{B_{f}} = v_{A_{i}}.\n",
    "$$\n",
    "\n",
    "Es decir, el objeto $A$ se detiene por completo mientras que $B$ gana la misma velocidad que la que tenía el objeto que lo impactó.\n",
    "\n",
    "2. El objeto $A$ choca con un objeto $B$ con la misma masa.\n",
    "\n",
    "$$\n",
    " v_{A_{f}} = v_{B_{i}}, \\quad v_{B_{f}} = v_{A_{i}}.\n",
    "$$\n",
    "\n",
    "Esto es, los objetos $A$ y $B$ rebotan entre sí, intercambiando sus velocidades."
   ]
  },
  {
   "cell_type": "markdown",
   "id": "92e8bb6b",
   "metadata": {},
   "source": [
    "----"
   ]
  },
  {
   "cell_type": "markdown",
   "id": "15257a3e",
   "metadata": {},
   "source": [
    "**Colisión inelástica**\n",
    "\n",
    "Choque de dos cuerpos ($A$ y $B$) en la cual hay una pérdida de $K$. Este tipo de colisión se puede expresar como:\n",
    "\n",
    "$$\n",
    " K_{A_{i}} + K_{B_{i}} \\neq K_{A_{f}} + K_{B_{f}}.\n",
    "$$\n",
    "\n",
    "Para la mayoría de colisiones inelásticas tenemos:\n",
    "\n",
    "$$\n",
    " K_{A_{i}} + K_{B_{i}} > \\underbrace{K_{A_{f}} + K_{B_{f}}}_{\\text{pérdida de $K$}}.\n",
    "$$\n",
    "\n",
    "**Coeficiente de restitución**\n",
    "\n",
    "Es un número entre 0 y 1 que permite describir qué tipo de interacción hay y se calcula a partir de la siguiente expresión:\n",
    "\n",
    "$$\n",
    " e = -\\frac{v_{A_{f}}-v_{B_{f}}}{v_{A_{i}}-v_{B_{i}}}\n",
    "$$\n",
    "donde tenemos los siguientes casos\n",
    "\n",
    "* $e=1$, choque elástico, $K$ se conserva.\n",
    "* $0<e<1$, choque parcialmente inelástico, $K$ no se conserva.\n",
    "* $e=0$, choque completamente inelástico, variación de $K$."
   ]
  },
  {
   "cell_type": "markdown",
   "id": "82f6f4d6",
   "metadata": {},
   "source": [
    "---\n",
    "\n",
    "# Actividad complementaria\n",
    "\n",
    "1. El estudiante realiza una búsqueda bibliográfica sobre ejemplos de colisión elástica e inelástica."
   ]
  },
  {
   "cell_type": "markdown",
   "id": "41c1a985",
   "metadata": {},
   "source": [
    "---\n",
    "\n",
    "**Datos incompletos**\n",
    "\n",
    "**P**. ¿Qué pasa si el enunciado (choque elástico) no nos proporciona las velocidades finales de los objetos $A$ y $B$, es decir $v_{A_{f}}$ y $v_{B_{f}}$?\n",
    "\n",
    "**R**. Podemos conocerlas a partir de lo siguiente:\n",
    "\n",
    "> Ecuación de la conservación del momento: $$ m_{A}v_{A_{i}} + m_{B}v_{B_{i}} = m_{A}v_{A_{f}} + m_{B}v_{B_{f}}$$\n",
    "\n",
    "> Ecuación de la conservación de la energía cinética: $$ \\frac{1}{2} m_{A}v_{A_{i}}^{2} + \\frac{1}{2}  m_{B}v_{B_{i}}^{2} = \\frac{1}{2} m_{A}v_{A_{f}}^{2} + \\frac{1}{2} m_{B}v_{B_{f}}^{2}$$\n",
    "\n",
    "1. Reescribimos la ecuación de la conservación de la energía cinética\n",
    "\n",
    "$$\n",
    " m_{A}\\left( v_{A_{i}}^{2} - v_{A_{f}}^{2} \\right) = m_{B}\\left( v_{B_{f}}^{2} - v_{B_{i}}^{2} \\right). \n",
    "$$\n",
    "\n",
    "> Recordando productos notables\n",
    "\n",
    "$$\n",
    " m_{A}\\left( v_{A_{i}} - v_{A_{f}} \\right)\\left( v_{A_{i}} + v_{A_{f}} \\right) = m_{B}\\left( v_{B_{f}} - v_{B_{i}} \\right)\\left( v_{B_{f}} + v_{B_{i}} \\right).\n",
    "$$\n",
    "\n",
    "2. Reescribimos la ecuación de la conservación de momento\n",
    "\n",
    "$$\n",
    " m_{A} \\left( v_{A_{i}} - v_{A_{f}} \\right) = m_{B} \\left( v_{B_{f}} - v_{B_{i}} \\right).\n",
    "$$\n",
    "\n",
    "3. Divimos las ecuaciones escritas anteriormente y obtenemos:\n",
    "\n",
    "$$\n",
    " v_{A_{i}} + v_{A_{f}} = v_{B_{f}} + v_{B_{i}}.\n",
    "$$\n",
    "\n",
    "4. Sustituimos en la ecuación de la conservación del momento:\n",
    "\n",
    "$$\n",
    " \\begin{aligned}\n",
    "  m_{A}v_{A_{f}} &= m_{A}v_{A_{i}} + m_{B}v_{B_{i}} - m_{B} \\left( v_{A_{i}} + v_{A_{f}} - v_{B_{i}} \\right), \\\\\n",
    "  m_{A}v_{A_{f}} + m_{B}v_{A_{f}} &= m_{A}v_{A_{i}} + m_{B}v_{B_{i}} - m_{B}v_{A_{i}} + m_{B}v_{B_{i}}.\n",
    " \\end{aligned}\n",
    "$$\n",
    "\n",
    "5. Factorizamos las velocidades y despejamos $v_{A_{f}}$\n",
    "\n",
    "$$\n",
    " \\left( m_{A} + m_{B} \\right)v_{A_{f}} = \\left( m_{A} - m_{B} \\right)v_{A_{i}} + 2m_{B}v_{B_{i}},\n",
    "$$\n",
    "\n",
    "$$\n",
    " v_{A_{f}} = \\left( \\frac{m_{A} - m_{B}}{m_{A} + m_{B}} \\right)v_{A_{i}} + \\left( \\frac{2m_{B}}{m_{A}+m_{B}} \\right)v_{B_{i}}.\n",
    "$$\n",
    "\n",
    "> ¿Y para $v_{B_{f}}$?\n",
    "\n",
    "6. Retomamos $v_{A_{i}} + v_{A_{f}} = v_{B_{f}} + v_{B_{i}}$, despejamos $v_{B_{f}}$ y sustituimos la ecuación del paso 5 en esta ecuacíón, _i.e._\n",
    "\n",
    "$$\n",
    " v_{B_{f}} = v_{A_{i}} + v_{A_{f}} - v_{B_{i}},\n",
    "$$\n",
    "\n",
    "$$\n",
    " v_{B_{f}} = v_{A_{i}} + \\left( \\frac{m_{A} - m_{B}}{m_{A} + m_{B}} \\right)v_{A_{i}} + \\left( \\frac{2m_{B}}{m_{A}+m_{B}} \\right)v_{B_{i}} - v_{B_{i}},\n",
    "$$\n",
    "\n",
    "> Agrupando términos y simplificando, tenemos:\n",
    "\n",
    "$$\n",
    " v_{B_{f}} = \\left( \\frac{2 m_{A}}{m_{A} + m_{B}} \\right)v_{A_{i}} + \\left( \\frac{m_{B}-m_{A}}{m_{A}+m_{B}} \\right)v_{B_{i}}.\n",
    "$$"
   ]
  },
  {
   "cell_type": "markdown",
   "id": "b615c986",
   "metadata": {},
   "source": [
    "----\n",
    "\n",
    "# Ejemplo 1\n",
    "\n",
    "Considere un objeto $A$ de masa $m_{A} = 0.65~ kg$ que se mueve hacia la derecha con una velocidad $v_{A}= 10~m/s$ mientras que otro objeto $B$ de masa $m_{B} = 0.45~kg$ se mueve hacia la izquierda a una velocidad $v_{B}= 8~m/s$ antes de la colisión. Después de la colisión, el objeto $A$ sigue su trayectoria a $1~m/s$ de modo que el objeto $B$, al rebotar, cambia el sentido de su trayectoria a $5~m/s$. Determine qué tipo de colisión es.\n",
    "\n",
    "## Datos\n",
    "\n",
    "$$\n",
    " m_{A} = 0.65, \\quad v_{A_{i}} = 10, \\quad v_{A_{f}} = 1,\n",
    "$$\n",
    "\n",
    "$$\n",
    " m_{B} = 0.45, \\quad v_{B_{i}} = 8, \\quad v_{B_{f}} = -5.\n",
    "$$\n",
    "\n",
    "## Ecuaciones\n",
    "\n",
    "Recordando que $K = \\frac{1}{2}\\cdot m \\cdot v^{2}$ sustituimos en cualquiera de las expresiones anteriores:\n",
    "\n",
    "$$\n",
    " \\frac{1}{2}\\cdot m_{A} \\cdot v_{A_{i}}^{2} + \\frac{1}{2}\\cdot m_{B} \\cdot v_{B_{i}}^{2} = \\frac{1}{2}\\cdot m_{A} \\cdot v_{A_{f}}^{2} + \\frac{1}{2}\\cdot m_{B} \\cdot v_{B_{f}}^{2}\n",
    "$$\n",
    "\n",
    "## Procedimiento\n",
    "\n",
    "$$\n",
    " \\frac{1}{2}\\cdot (0.65) \\cdot (10)^{2} + \\frac{1}{2}\\cdot (0.45) \\cdot (8)^{2} = \\frac{1}{2}\\cdot (0.65) \\cdot (1)^{2} + \\frac{1}{2}\\cdot (0.45) \\cdot (-5)^{2}\n",
    "$$"
   ]
  },
  {
   "cell_type": "code",
   "execution_count": 1,
   "id": "bd24accd",
   "metadata": {
    "code_folding": [
     3,
     6,
     9
    ]
   },
   "outputs": [
    {
     "name": "stdout",
     "output_type": "stream",
     "text": [
      "K total inicial:\n"
     ]
    },
    {
     "data": {
      "application/vnd.jupyter.widget-view+json": {
       "model_id": "d7633cc67e4b40428f526691e2ba2139",
       "version_major": 2,
       "version_minor": 0
      },
      "text/plain": [
       "interactive(children=(FloatSlider(value=0.0, description='Masa A:', max=10.0, readout_format='.4f', step=0.01)…"
      ]
     },
     "metadata": {},
     "output_type": "display_data"
    },
    {
     "name": "stdout",
     "output_type": "stream",
     "text": [
      "K total final:\n"
     ]
    },
    {
     "data": {
      "application/vnd.jupyter.widget-view+json": {
       "model_id": "ef280db79a3e4c81be5a0b1c43161d75",
       "version_major": 2,
       "version_minor": 0
      },
      "text/plain": [
       "interactive(children=(FloatSlider(value=0.0, description='Masa A:', max=10.0, readout_format='.4f', step=0.01)…"
      ]
     },
     "metadata": {},
     "output_type": "display_data"
    }
   ],
   "source": [
    "from ipywidgets import interact,widgets,FloatSlider\n",
    "import numpy as np\n",
    "\n",
    "def K_inicial(mA, mB, vAi, vBi):\n",
    "    return ((1/2)*(mA)*(vAi*vAi) + (1/2)*(mB)*(vBi*vBi))\n",
    "    \n",
    "def K_final(mA, mB, vAf, vBf):\n",
    "    return ((1/2)*(mA)*(vAf*vAf) + (1/2)*(mB)*(vBf*vBf))\n",
    "\n",
    "if __name__ == '__main__':\n",
    "    m_A = widgets.FloatSlider(description = 'Masa A:', min = 0, max = 10, step = 0.01, value = 0, readout_format='.4f')\n",
    "    m_B = widgets.FloatSlider(description = 'Masa B:', min = 0, max = 10, step = 0.01, value = 0, readout_format='.4f')\n",
    "    v_Ai = widgets.FloatSlider(description = 'Vel. inic. A:', min = -100, max = 100, step = 0.01, value = 0, readout_format='.4f')\n",
    "    v_Bi = widgets.FloatSlider(description = 'Vel. inic. B:', min = -100, max = 100, step = 0.01, value = 0, readout_format='.4f')\n",
    "    v_Af = widgets.FloatSlider(description = 'Vel. fin. A:', min = -100, max = 100, step = 0.01, value = 0, readout_format='.4f')\n",
    "    v_Bf = widgets.FloatSlider(description = 'Vel. fin. B:', min = -100, max = 100, step = 0.01, value = 0, readout_format='.4f')\n",
    "    \n",
    "    print('K total inicial:')\n",
    "    K_i = interact(K_inicial, mA = m_A, mB = m_B, vAi = v_Ai, vBi = v_Bi)\n",
    "\n",
    "    print('K total final:')\n",
    "    K_f = interact(K_final, mA = m_A, mB = m_B, vAf = v_Af, vBf = v_Bf)"
   ]
  },
  {
   "cell_type": "markdown",
   "id": "759ef0f7",
   "metadata": {},
   "source": [
    "## Datos\n",
    "\n",
    "$$\n",
    " m_{A} = 0.65, \\quad v_{A_{i}} = 10, \\quad v_{A_{f}} = 1,\n",
    "$$\n",
    "\n",
    "$$\n",
    " m_{B} = 0.45, \\quad v_{B_{i}} = 8, \\quad v_{B_{f}} = -5.\n",
    "$$"
   ]
  },
  {
   "cell_type": "markdown",
   "id": "f5790623",
   "metadata": {},
   "source": [
    "## Conclusión\n",
    "\n",
    "> Colisión elástica $$ K_{A_{i}} + K_{B_{i}} = K_{A_{f}} + K_{B_{f}}.$$\n",
    "\n",
    "> Colisión inelástica $$ K_{A_{i}} + K_{B_{i}} > K_{A_{f}} + K_{B_{f}}.$$\n",
    "\n",
    "Como la $K$ total inicial ($46.9$) es diferente (o bien mayor) a la $K$ total final ($5.95$), entonces este tipo de colisión es *inelástica*."
   ]
  },
  {
   "cell_type": "markdown",
   "id": "3b706344",
   "metadata": {},
   "source": [
    "---"
   ]
  },
  {
   "cell_type": "markdown",
   "id": "6ef7dd80",
   "metadata": {},
   "source": [
    "# Ejemplo 2\n",
    "\n",
    "Considere los siguientes datos\n",
    "\n",
    "$$\n",
    " m_{A} = 0.058, \\quad v_{A_{i}} = 40, \\quad v_{A_{f}} = ?,\n",
    "$$\n",
    "\n",
    "$$\n",
    " m_{B} = 0.045, \\quad v_{B_{i}} = 50, \\quad v_{B_{f}} = ?.\n",
    "$$\n",
    "\n",
    "y realice las siguientes actividades:\n",
    "\n",
    "1. Calcular las velocidades finales $v_{A_{f}}$ y $v_{B_{f}}$\n",
    "2. Determinar el tipo de colisión\n",
    "3. Representar gráficamente los objetos antes y despúes de la colisión."
   ]
  },
  {
   "cell_type": "markdown",
   "id": "5287fa2a",
   "metadata": {},
   "source": [
    "**1. Calcular las velocidades finales $v_{A_{f}}$ y $v_{B_{f}}$**"
   ]
  },
  {
   "cell_type": "code",
   "execution_count": 2,
   "id": "e28c8d23",
   "metadata": {
    "code_folding": []
   },
   "outputs": [
    {
     "data": {
      "application/vnd.jupyter.widget-view+json": {
       "model_id": "b65d08c984f14d129163104a147e6380",
       "version_major": 2,
       "version_minor": 0
      },
      "text/plain": [
       "interactive(children=(FloatSlider(value=0.0, description='Masa A:', max=10.0, readout_format='.4f', step=0.01)…"
      ]
     },
     "metadata": {},
     "output_type": "display_data"
    },
    {
     "data": {
      "application/vnd.jupyter.widget-view+json": {
       "model_id": "c3646f5b6d144ca28b5cb3b57ab357cf",
       "version_major": 2,
       "version_minor": 0
      },
      "text/plain": [
       "interactive(children=(FloatSlider(value=0.0, description='Masa A:', max=10.0, readout_format='.4f', step=0.01)…"
      ]
     },
     "metadata": {},
     "output_type": "display_data"
    }
   ],
   "source": [
    "def vAf(mA,mB,vAi,vBi):\n",
    "    return (((mA-mB)/(mA+mB))*vAi + ((2*mB)/(mA+mB))*vBi)\n",
    "\n",
    "def vBf(mA,mB,vAi,vBi):\n",
    "    return (((2*mA)/(mA+mB))*vAi + ((mB-mA)/(mA+mB))*vBi)\n",
    "\n",
    "if __name__ == '__main__':    \n",
    "    vA_final = interact(vAf, mA = m_A, mB = m_B, vAi = v_Ai, vBi = v_Bi)\n",
    "    #print(f\"Velocidad final del objeto A: {vA_final.widget.result:{2}.{6}}\")\n",
    "    \n",
    "    vB_final = interact(vBf, mA = m_A, mB = m_B, vAi = v_Ai, vBi = v_Bi)\n",
    "    #print(f\"Velocidad final del objeto B: {vB_final.widget.result:{2}.{6}}\")\n"
   ]
  },
  {
   "cell_type": "markdown",
   "id": "02a48a32",
   "metadata": {},
   "source": [
    "**2. Determinar el tipo de colisión**"
   ]
  },
  {
   "cell_type": "code",
   "execution_count": 4,
   "id": "b07439c3",
   "metadata": {
    "code_folding": [
     1,
     3
    ]
   },
   "outputs": [
    {
     "name": "stdout",
     "output_type": "stream",
     "text": [
      "K total inicial:\n"
     ]
    },
    {
     "data": {
      "application/vnd.jupyter.widget-view+json": {
       "model_id": "65a1accc2f944c9d90912f3df3867aa8",
       "version_major": 2,
       "version_minor": 0
      },
      "text/plain": [
       "interactive(children=(FloatSlider(value=0.058, description='Masa A:', max=10.0, readout_format='.4f', step=0.0…"
      ]
     },
     "metadata": {},
     "output_type": "display_data"
    },
    {
     "name": "stdout",
     "output_type": "stream",
     "text": [
      "K total final:\n"
     ]
    },
    {
     "data": {
      "application/vnd.jupyter.widget-view+json": {
       "model_id": "ab4b020577a9407c88c5521c4e7b1a7d",
       "version_major": 2,
       "version_minor": 0
      },
      "text/plain": [
       "interactive(children=(FloatSlider(value=0.058, description='Masa A:', max=10.0, readout_format='.4f', step=0.0…"
      ]
     },
     "metadata": {},
     "output_type": "display_data"
    },
    {
     "name": "stdout",
     "output_type": "stream",
     "text": [
      "Colisión elástica\n"
     ]
    }
   ],
   "source": [
    "def evalua_colision(K_ti, K_tf):\n",
    "    if np.round(K_ti, decimals = 2) == np.round(K_tf, decimals = 2):\n",
    "        print('Colisión elástica')\n",
    "    else:\n",
    "        print('Colisión inelástica')\n",
    "        \n",
    "if __name__ == '__main__':\n",
    "    print('K total inicial:')\n",
    "    K_i = interact(K_inicial, mA = m_A, mB = m_B, vAi = v_Ai, vBi = v_Bi)\n",
    "\n",
    "    print('K total final:')\n",
    "    K_f = interact(K_final, mA = m_A, mB = m_B, vAf = vA_final.widget.result, vBf = vB_final.widget.result)\n",
    "    \n",
    "    evalua_colision(K_i.widget.result, K_f.widget.result)"
   ]
  },
  {
   "cell_type": "markdown",
   "id": "f8590bff",
   "metadata": {},
   "source": [
    "**Conclusión**\n",
    "\n",
    "Como la $K$ total inicial ($~$) es diferente (o bien mayor) a la $K$ total final ($~$), entonces este tipo de colisión es *_*."
   ]
  },
  {
   "cell_type": "markdown",
   "id": "14189f44",
   "metadata": {},
   "source": [
    "**3. Representar gráficamente los objetos antes y despúes de la colisión.**"
   ]
  }
 ],
 "metadata": {
  "hide_input": false,
  "kernelspec": {
   "display_name": "Python 3 (ipykernel)",
   "language": "python",
   "name": "python3"
  },
  "language_info": {
   "codemirror_mode": {
    "name": "ipython",
    "version": 3
   },
   "file_extension": ".py",
   "mimetype": "text/x-python",
   "name": "python",
   "nbconvert_exporter": "python",
   "pygments_lexer": "ipython3",
   "version": "3.10.4"
  }
 },
 "nbformat": 4,
 "nbformat_minor": 5
}
