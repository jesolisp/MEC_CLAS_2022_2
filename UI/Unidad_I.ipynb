{
 "cells": [
  {
   "cell_type": "markdown",
   "id": "51b08892",
   "metadata": {},
   "source": [
    "<img src=\"logo_ENESJ.png\" width=140 height=120 />\n",
    "\n",
    "# Mecánica clásica\n",
    "##  Semestre 2022-2 \n",
    "\n",
    "### Profr. Jesús Emmanuel Solís Pérez\n",
    "### jsolisp@unam.mx\n",
    "---"
   ]
  },
  {
   "cell_type": "markdown",
   "id": "8f5c350c",
   "metadata": {},
   "source": [
    "# Unidad I. Conceptos fundamentales\n",
    "**Mecánica.** Parte de la física que trata del equilibrio y del movimiento de los cuerpos sometidos a cualquier fuerza.\n",
    "\n",
    "**Mecánica clásica.** Área de la física que estudia el movimiento de los objetos. Es conocida también como *mecánica Newtoniana* o *mecánica*.\n",
    "\n",
    "El ser humano necesita realizar **mediciones** para poder describir los fenómenos naturales. Estas mediciones se asocian a una **cantidad física**, por ejemplo la *longitud* o el *peso* de un objeto.\n",
    "\n",
    "Un comité internacional estableció un conjunto de estándares para las cantidades fundamentales en 1960, el Sistema Internacional (SI)."
   ]
  },
  {
   "cell_type": "markdown",
   "id": "a08b5b3a",
   "metadata": {},
   "source": [
    "## Cantidades físicas\n",
    "* **Longitud.** Distancia entre dos puntos en el espacio.\n",
    "* **Masa.** Fuerza de gravedad que ejerce todo lo que ocupa un lugar en el espacio (materia).\n",
    "* **Tiempo.** Dimensión conectada al espacio que se dilata o contrae dependiende de la velocidad del observador.\n",
    "* **Temperatura.** Forma en la que vibran los cuerpos.\n",
    "* **Corriente eléctrica.** Velocidad en la que viajan los electrones en un espacio definido.\n",
    "* **Intensidad luminosa.** Magnitud que mide el flujo de luz emitido por un objeto.\n",
    "* **Cantidad de sustancia.** Tiene un número de partículas equivalantes a la constante de avogadro.\n",
    "\n",
    "Las tres cantidades fundamentales en mecánica son: **masa, tiempo y longitud**.\n",
    "\n",
    "Las *cantidades deducidas* son combinaciones matemáticas de cantidades fundamentales. Por ejemplo: área, rapidez, **densidad**\n",
    "\n",
    "\\begin{equation}\n",
    " \\rho \\equiv \\frac{m}{V}.\n",
    "\\end{equation}"
   ]
  },
  {
   "cell_type": "markdown",
   "id": "4abeff6e",
   "metadata": {},
   "source": [
    "## Unidades\n",
    "| **Cantidad**         | **Unidad** |\n",
    "|:--------------------:|:----------:|\n",
    "| Longitud             | metro      |\n",
    "| Masa                 | kilogramo  |\n",
    "| Tiempo               | segundo    |\n",
    "| Corriente electrica  | ampere     |\n",
    "| Temperatura          | kelvin     |\n",
    "| Intensidad luminosa  | candela    |\n",
    "| Cantidad de sustancia| mol        |\n",
    "\n",
    "| Potencia   | Prefijo | Abreviatura | Potencia  | Prefijo | Abreviatura |\n",
    "|:----------:|:-------:|:-----------:|:---------:|:-------:|:-----------:|\n",
    "| $10^{-24}$ | yocto   | y           | $10^{3}$  | kilo    | k           |\n",
    "| $10^{-21}$ | zepto   | z           | $10^{6}$  | mega    | M           |\n",
    "| $10^{-18}$ | atto   | a           | $10^{9}$  | giga    | G           |\n",
    "| $10^{-15}$ | femto   | f           | $10^{12}$  | tera    | T           |\n",
    "| $10^{-12}$ | pico   | p           | $10^{15}$  | peta    | P           |\n",
    "| $10^{-9}$  | nano   | n           | $10^{18}$  | exa    | E           |\n",
    "| $10^{-6}$ | micro   | $\\mu$           | $10^{21}$  | zetta    | Z           |\n",
    "| $10^{-3}$ | mili   | m           | $10^{24}$  | yotta    | Y           |\n",
    "| $10^{-2}$ | centi   | c           |   |     |           |\n",
    "| $10^{-1}$ | deci   | d            |   |     |           |"
   ]
  },
  {
   "cell_type": "markdown",
   "id": "a0fdefbb",
   "metadata": {},
   "source": [
    "---\n",
    "# Actividad 1. Realice el llenado de las siguientes tablas\n",
    "\n",
    "| | Longitud (m)|\n",
    "|:------------------------------------------------------------------------:|:-:|\n",
    "| Distancia de la Tierra al quasar conocido más remoto                     | $1.23\\times 10^{25}$ |\n",
    "| Distancia de la Tierra a la galaxia Andrómeda                            | $2\\times 10^{22}$ |\n",
    "| Distancia del Sol a la estrella Proxima Centauri                         | $3.8\\times 10^{16}$ |\n",
    "| Un año luz                                                               | $9.46\\times 10^{15}$  |\n",
    "| Radio orbital medio de la Tierra en torno al Sol                         | $1.5\\times 10^{11}$    |\n",
    "| Distancia media de la Tierra a la Luna                                   | $3.84\\times 10^{8}$  |\n",
    "| Distancia del ecuador al Polo Norte                                      | $1\\times 10^{7}$    |\n",
    "| Radio medio de la Tierra                                                 | $6.37\\times 10^{6}$    |\n",
    "| Altitud típica (sobre la superficie) de un satélite que orbita la Tierra | $2\\times 10^{5}$    |\n",
    "| Longitud de un campo de futbol (soccer)                                  | $9\\times 10^{1}$    |\n",
    "| Longitud de una mosca común                                              | $7\\times 10^{-2}$    |\n",
    "| Tamaño de las partículas de polvo más pequeñas                           | $\\sim \\times 10^{-4}$    |\n",
    "| Diámetro de un átomo de hidrógeno                                        | $\\sim \\times 10^{-10}$    |\n",
    "| Diámetro de un núcleo atómico                                            | $\\sim \\times 10^{-14}$  |\n",
    "| Diámetro de un protón                                                    | $\\sim \\times 10^{-15}$  |\n",
    "\n",
    "| Masas aproximadas de varios objetos | Masa (kg)        |\n",
    "|:-----------------------------------:|:----------------:|\n",
    "| Universo visible                    | $\\sim \\times 10^{52}$|\n",
    "| Vía Láctea                          | $\\sim \\times 10^{42}$ |\n",
    "| Sol                                 | $\\sim 1.9 \\times 10^{30}$ |\n",
    "| Tierra                              | $\\sim 5.9 \\times 10^{24}$ |\n",
    "| Luna                                | $\\sim 7.36 \\times 10^{22}$ |\n",
    "| Tiburón blanco                      | $\\sim 2.25 \\times 10^{3}$ |\n",
    "| Humano                              | $\\sim 7 \\times 10^{1}$ |\n",
    "| Rana                                | $\\sim 7 \\times 10^{-2}$ |\n",
    "| Mosquito                            | $\\sim 2.5 \\times 10^{-6}$ |\n",
    "| Bacteria                            | $\\sim \\times 10^{-15}$ |\n",
    "| Átomo de hidrógeno                  | $\\sim 1.67 \\times 10^{-27}$ |\n",
    "| Electrón                            | $\\sim 1.28 \\times 10^{-31}$ |"
   ]
  },
  {
   "cell_type": "markdown",
   "id": "f6dd4dec",
   "metadata": {},
   "source": [
    "---\n",
    "## Análisis dimensional\n",
    "La palabra **dimensión** denota la naturaleza física de una determinada cantidad. Por ejemplo:\n",
    "\n",
    "| Cantidad        | Área    | Volumen | Rapidez | Aceleración |\n",
    "|-----------------|---------|---------|---------|-------------|\n",
    "| Dimensiones     | $L^{2}$ | $L^{3}$ | $L/T$   | $L/T^{2}$   |\n",
    "| Unidades del SI | $m^{2}$ | $m^{3}$ | $m/s$   | $m/s^{2}$   |\n",
    "\n",
    "El **análisis dimensional** es un procedimiento que permite determinar si una expresión tiene la forma correcta. Es decir, las dimensiones en ambos lados de la expresión son las mismas.\n",
    "\n",
    "---\n",
    "\n",
    "### Ejercicio 1.\n",
    "En el examen de mecánica clásica, Juanito tiene que encontrar una ecuación que permita expresar la posición $x$ de una bicicleta en un tiempo $t$. Si la bicicleta parte de $x=0$ con una aceleración constante $a$, la expresión que puede utilizar Juanito está dada como sigue:\n",
    "\n",
    "\\begin{equation}\n",
    " x = \\frac{1}{2}at^{2},\n",
    "\\end{equation}\n",
    "\n",
    "como $a = L/T^{2}$, entonces\n",
    "\n",
    "\\begin{equation}\n",
    " L = (L/T^{2})(T^{2}).\n",
    "\\end{equation}\n",
    "\n",
    "Determine si esta expresión es válida haciendo uso del análisis dimensional."
   ]
  },
  {
   "cell_type": "markdown",
   "id": "d3cebeb4",
   "metadata": {},
   "source": [
    "---\n",
    "### Ejercicio 2.\n",
    "Muestre que la siguiente expresión es dimensionalmente correcta\n",
    "\n",
    "\\begin{equation}\n",
    " v = at,\n",
    "\\end{equation}\n",
    "donde $v$ representa rapidez, $a$ aceleración y $t$ tiempo.\n",
    "\n",
    "### Ejercicio 2a\n",
    "\n",
    "Verificar la siguiente expresión\n",
    "\n",
    "\\begin{equation}\n",
    " v = at^{2}.\n",
    "\\end{equation}\n"
   ]
  },
  {
   "cell_type": "markdown",
   "id": "045fd7b0",
   "metadata": {},
   "source": [
    "---\n",
    "### Ejercicio 3.\n",
    "La aceleración $a$ de una partícula que se mueve en un círculo de radio $r$ con una rapidez uniforme $v$ es proporcional a una potencia de $r$. Es decir, $r^n$. O bien, una potencia de $v$ dada como $v^{m}$. Determine los valores de $n$ y $m$ así como encuentre una forma simple para la ecuación de la aceleración."
   ]
  },
  {
   "cell_type": "markdown",
   "id": "c35e63d1",
   "metadata": {},
   "source": [
    "---\n",
    "## Conversión de unidades\n",
    "\n",
    "### Ejercicio 4. \n",
    "Convierta 15 in a cm, considerando que $1~ in = 2.54~ cm$.\n",
    "\n",
    "### Ejercicio 5.\n",
    "El profesor Solís viaja sobre la autopista México-Querétaro con una rapidez de $38.0~ m/s$. ¿El profesor es acredor a una multa por haber rebasado el límite de velocidad de $75.0~ mi/h$?"
   ]
  },
  {
   "cell_type": "markdown",
   "id": "fd7a33bd",
   "metadata": {},
   "source": [
    "---\n",
    "## Vectores y leyes de la física\n",
    "\n",
    "Cuando queremos realizar la descripción de un objeto en un espacio de dos dimensiones solemos recurrir a un *sistema de coordenadas cartesianas*. \n",
    "\n",
    "<img src=\"../figs/batalla_naval.jpg\" width=340 height=320 />\n",
    "\n",
    "Otro nombre con el cual se le conocen a las coordenadas cartesianas es *coordenadas rectangulares*.\n",
    "\n",
    "Un valor especificado con una unidad y sin dirección se le conoce como **cantidad escalar**. Por ejemplo, la temperatura actual en Querétaro 24° C. \n",
    "\n",
    "Cuando además de un número necesitamos unidades más una dirección, nos refereimos a una **cantidad vectorial**. Por ejemplo, un tirador necesita conocer la rapidez del viento así como su dirección.\n",
    "\n",
    "<img src=\"../figs/shooter.jpg\" width=340 height=320 />\n",
    "\n",
    "Otro ejemplo de cantidad vectorial es el desplazamiento. Imaginen que Don Omar se quiere mover del punto A al punto B en una trayectoria recta. Aquí, la dirección de la flecha representa la dirección del desplazamiento y la longitud de la flecha la magnitud del desplazamiento.\n",
    "\n",
    "<img src=\"../figs/random_path.jpg\" width=440 height=420 />\n",
    "\n",
    "Si Don Omar se pasó se tragos después de la fiesta, pese a que camina en \"pasos aleatorios\" su desplazamiento sigue siendo la flecha azul ya que el desplazamiento sólo depende de las posiciones inicial y final.\n",
    "\n",
    "La notación utilizada para trabajar con vectores es la siguiente:\n",
    "* ${\\bf\\vec{v}}$, representa un vector.\n",
    "* $|{\\bf\\vec{v}}|$, magnitud del vector $\\bf{\\vec{v}}$.\n",
    "\n",
    "**Nota.** La magnitud de un vector tiene unidades físicas y siempre es positiva."
   ]
  },
  {
   "cell_type": "code",
   "execution_count": 1,
   "id": "ec1395cb",
   "metadata": {},
   "outputs": [],
   "source": [
    "import numpy as np\n",
    "import matplotlib.pyplot as plt\n",
    "\n",
    "%matplotlib inline"
   ]
  },
  {
   "cell_type": "markdown",
   "id": "516fa996",
   "metadata": {},
   "source": [
    "### Propiedades de los vectores\n",
    "\n",
    "#### Igualdad de dos vectores\n",
    "Dados dos vectores ${\\bf\\vec{u}}$ y ${\\bf\\vec{v}}$, se dice que son iguales si tienen la misma magnitud y además apuntan en la misma dirección. Esto es ${\\bf\\vec{u}} = {\\bf\\vec{v}}$"
   ]
  },
  {
   "cell_type": "code",
   "execution_count": 2,
   "id": "8a8390c6",
   "metadata": {},
   "outputs": [
    {
     "data": {
      "image/png": "[encoded data removed]",
      "text/plain": [
       "<Figure size 432x288 with 1 Axes>"
      ]
     },
     "metadata": {
      "needs_background": "light"
     },
     "output_type": "display_data"
    }
   ],
   "source": [
    "plt.quiver(-0.5,-0.5,4,4, angles='xy', scale_units='xy', scale=1)\n",
    "plt.quiver(-1.5,-5.5,4,4, angles='xy', scale_units='xy', scale=1)\n",
    "plt.quiver(-5.5,-0.5,4,4, angles='xy', scale_units='xy', scale=1)\n",
    "plt.xlim(-10, 10)\n",
    "plt.ylim(-10, 10)\n",
    "plt.show()"
   ]
  },
  {
   "cell_type": "markdown",
   "id": "03ba842d",
   "metadata": {},
   "source": [
    "#### Suma de vectores\n",
    "\n",
    "Se dice que el **vector resultante** ${\\bf \\vec{w}}$ es el vector que se obtiene al dibujar desde el origen de ${\\bf \\vec{u}}$ a la punta de ${\\bf \\vec{v}}$. Esto se denota de la siguiente forma:\n",
    "\n",
    "\\begin{equation}\n",
    " {\\bf \\vec{w}} = {\\bf \\vec{u}} + {\\bf \\vec{v}},\n",
    "\\end{equation}\n",
    "\n",
    "y graficamente se puede observar a continuación:"
   ]
  },
  {
   "cell_type": "code",
   "execution_count": 3,
   "id": "01180af7",
   "metadata": {},
   "outputs": [
    {
     "data": {
      "image/png": "[encoded data removed]",
      "text/plain": [
       "<Figure size 432x288 with 1 Axes>"
      ]
     },
     "metadata": {
      "needs_background": "light"
     },
     "output_type": "display_data"
    }
   ],
   "source": [
    "plt.quiver(0,0,7,0, angles='xy', scale_units='xy', scale=1, color='r', label = 'u')\n",
    "plt.quiver(7,0,3,7, angles='xy', scale_units='xy', scale=1, color='g', label = 'v')\n",
    "plt.quiver(0,0,10,7, angles='xy', scale_units='xy', scale=1, color='b', label = 'w')\n",
    "plt.xlim(-1, 12)\n",
    "plt.ylim(-1, 10)\n",
    "plt.legend()\n",
    "plt.show()"
   ]
  },
  {
   "cell_type": "markdown",
   "id": "ce99bff3",
   "metadata": {},
   "source": [
    "¿Y qué pasa si queremos sumar más de dos vectores? Podemos utilizar una construcción geométrica. Por ejemplo, considere lo siguiente:\n",
    "\n",
    "\\begin{equation}\n",
    " {\\bf \\vec{w}} = {\\bf \\vec{u}} + {\\bf \\vec{v}} + {\\bf \\vec{a}} + {\\bf \\vec{b}},\n",
    "\\end{equation}"
   ]
  },
  {
   "cell_type": "code",
   "execution_count": 4,
   "id": "88f46c50",
   "metadata": {},
   "outputs": [
    {
     "data": {
      "image/png": "[encoded data removed]",
      "text/plain": [
       "<Figure size 432x288 with 1 Axes>"
      ]
     },
     "metadata": {
      "needs_background": "light"
     },
     "output_type": "display_data"
    }
   ],
   "source": [
    "plt.quiver(0,0,3,0, angles='xy', scale_units='xy', scale=1, color='r', label = 'u')\n",
    "plt.quiver(3,0,2,3, angles='xy', scale_units='xy', scale=1, color='g', label = 'v')\n",
    "plt.quiver(5,3,-1,3, angles='xy', scale_units='xy', scale=1, color='b', label = 'a')\n",
    "plt.quiver(4,6,-3,1, angles='xy', scale_units='xy', scale=1, color='m', label = 'b')\n",
    "plt.quiver(0,0,1,7, angles='xy', scale_units='xy', scale=1, color='c', label = 'w')\n",
    "plt.xlim(-1, 12)\n",
    "plt.ylim(-1, 10)\n",
    "plt.legend()\n",
    "plt.show()"
   ]
  },
  {
   "cell_type": "markdown",
   "id": "cb4efff6",
   "metadata": {},
   "source": [
    "El método anterior se le conoce como el **método del paralelogramo**.\n",
    "\n",
    "Cuando se suman dos vectores dados ${\\bf \\vec{u}}$ y ${\\bf \\vec{v}}$, la suma es independiente del orden de la suma. Esta propiedad se conoce como **ley conmutativa** y se denota como sigue:\n",
    "\n",
    "\\begin{equation}\n",
    " {\\bf \\vec{w}} = {\\bf \\vec{u}} + {\\bf \\vec{v}} = {\\bf \\vec{v}} + {\\bf \\vec{u}}.\n",
    "\\end{equation}\n",
    "\n",
    "Lo anterior puede ser representado geométricamente como sigue"
   ]
  },
  {
   "cell_type": "code",
   "execution_count": 4,
   "id": "9d781a79",
   "metadata": {},
   "outputs": [
    {
     "data": {
      "image/png": "[encoded data removed]",
      "text/plain": [
       "<Figure size 432x288 with 1 Axes>"
      ]
     },
     "metadata": {
      "needs_background": "light"
     },
     "output_type": "display_data"
    }
   ],
   "source": [
    "plt.quiver(0,0,5,1, angles='xy', scale_units='xy', scale=1, color='r', label = 'u')\n",
    "plt.quiver(5,1,1,7, angles='xy', scale_units='xy', scale=1, color='g', label = 'v')\n",
    "plt.quiver(0,0,1,7, angles='xy', scale_units='xy', scale=1, color='g', label = 'v')\n",
    "plt.quiver(1,7,5,1, angles='xy', scale_units='xy', scale=1, color='r', label = 'u')\n",
    "plt.quiver(0,0,6,8, angles='xy', scale_units='xy', scale=1, color='b', label = 'w')\n",
    "plt.xlim(-1, 12)\n",
    "plt.ylim(-1, 10)\n",
    "plt.legend()\n",
    "plt.show()"
   ]
  },
  {
   "cell_type": "markdown",
   "id": "8d873a0f",
   "metadata": {},
   "source": [
    "Por otro lado, cuando se suman tres o más vectores su suma es independiente a la forma en cómo agrupamos los vectores individuales. Esta propiedad se le conoce como **ley asociativa** y se denota como sigue:\n",
    "\n",
    "\\begin{equation}\n",
    " {\\bf \\vec{u}} + ({\\bf \\vec{v}} + {\\bf \\vec{w}}) = ({\\bf \\vec{u}} + {\\bf \\vec{v}}) + {\\bf \\vec{w}}.\n",
    "\\end{equation}\n",
    "\n",
    "De lo anterior se puede concluir que una **cantidad vectorial** tiene magnitud, dirección y obecede las leyes de la suma vectorial.\n",
    "\n",
    "#### Negativo de un vector\n",
    "\n",
    "Se define como el negativo del vector ${\\bf \\vec{u}}$ como el vector resultante que cuando se suma con ${\\bf \\vec{u}}$ da cero. Es decir, ${\\bf \\vec{u}} + (-{\\bf \\vec{u}}) = 0$. Aquí, ${\\bf \\vec{u}}$ y ${\\bf -\\vec{u}}$ tienen la misma magnitud pero tienen direcciones opuestas.\n",
    "\n",
    "#### Resta de vectores\n",
    "\n",
    "Utiliza la definición anterior y se denota como sigue:\n",
    "\n",
    "\\begin{equation}\n",
    " {\\bf \\vec{w}} = {\\bf \\vec{u}} - {\\bf \\vec{v}} = {\\bf \\vec{u}} + (-{\\bf \\vec{v}}).\n",
    "\\end{equation}\n",
    "\n",
    "Geometricamente esto se muestra a continuación:"
   ]
  },
  {
   "cell_type": "code",
   "execution_count": 5,
   "id": "9813a79a",
   "metadata": {},
   "outputs": [
    {
     "data": {
      "image/png": "[encoded data removed]",
      "text/plain": [
       "<Figure size 432x288 with 1 Axes>"
      ]
     },
     "metadata": {
      "needs_background": "light"
     },
     "output_type": "display_data"
    }
   ],
   "source": [
    "plt.quiver(0,0,2,-5, angles='xy', scale_units='xy', scale=1, color='r', label = 'w')\n",
    "plt.quiver(0,0,4,2, angles='xy', scale_units='xy', scale=1, color='g', label = 'u')\n",
    "plt.quiver(4,2,-2,-7, angles='xy', scale_units='xy', scale=1, color='b', label = 'v')\n",
    "plt.quiver(4,2,2,7, angles='xy', scale_units='xy', scale=1, color='k', label = 'v')\n",
    "plt.xlim(-1, 12)\n",
    "plt.ylim(-5, 10)\n",
    "plt.legend()\n",
    "plt.show()"
   ]
  },
  {
   "cell_type": "markdown",
   "id": "53b0135c",
   "metadata": {},
   "source": [
    "#### Multiplicación de un vector por un escalar\n",
    "\n",
    "Se dice que un vector ${\\bf \\vec{u}}$ multiplicado por un escalar $k$, da como resultado $k{\\bf \\vec{u}}$ con la misma dirección que ${\\bf \\vec{u}}$ y magnitud $k\\cdot u$.\n",
    "\n",
    "---\n",
    "\n",
    "## Ejemplo 1. \n",
    "\n",
    "El profesor es nuevo en Querétaro y al preguntar a sus estudiantes sobre lugares qué visitar le recomendaron ir el fin de semana a Peña de Bernal. Un estudiante le comentó que si traía automóvil debía viajar 30 km al norte, luego a 45 km en una dirección de 50° al noroeste. Encuentre la magnitud y desplazamiento resultante del automóvil del profesor.\n",
    "\n",
    "1. Representamos lo anterior gráficamente. Para ello consideramos:\n",
    "    * ${\\bf \\vec{u}}$, el automóvil que viaja 30 km al norte.\n",
    "    * ${\\bf \\vec{v}}$, el automóvil que viaja a 45 km en una dirección de 50° al noroeste.\n",
    "    * ${\\bf \\vec{w}}$, el resultante."
   ]
  },
  {
   "cell_type": "code",
   "execution_count": 6,
   "id": "d6175c55",
   "metadata": {},
   "outputs": [
    {
     "data": {
      "image/png": "[encoded data removed]",
      "text/plain": [
       "<Figure size 432x288 with 1 Axes>"
      ]
     },
     "metadata": {
      "needs_background": "light"
     },
     "output_type": "display_data"
    }
   ],
   "source": [
    "plt.quiver(0,0,0,30, angles='xy', scale_units='xy', scale=1, color='r', label = 'u')\n",
    "plt.quiver(0,30,-30,30, angles='xy', scale_units='xy', scale=1, color='g', label = 'v')\n",
    "plt.quiver(0,0,-30,60, angles='xy', scale_units='xy', scale=1, color='b', label = 'w')\n",
    "plt.xlim(-40, 10)\n",
    "plt.ylim(0, 100)\n",
    "plt.legend()\n",
    "plt.show()"
   ]
  },
  {
   "cell_type": "markdown",
   "id": "b587fc4f",
   "metadata": {},
   "source": [
    "Recordando la ley de cosenos, tenemos que la magnitud del vector ${\\bf \\vec{w}}$ se obtiene a partir de lo siguiente:\n",
    "\n",
    "\\begin{equation}\n",
    " w = \\sqrt{u^{2} + v^{2} - 2\\cdot u\\cdot v\\cdot \\cos(\\theta)}.\n",
    "\\end{equation}\n",
    "\n",
    "Sustituyento los valores, tenemos:\n",
    "\n",
    "\\begin{equation}\n",
    " w = \\sqrt{30^{2} + 45^{2} - 2(30)(45)\\cos(130) },\n",
    "\\end{equation}\n",
    "\n",
    "donde $\\theta = 180^{o} - 50^{o} = 130^{o}$."
   ]
  },
  {
   "cell_type": "code",
   "execution_count": 7,
   "id": "a894039c",
   "metadata": {},
   "outputs": [
    {
     "data": {
      "text/plain": [
       "68.2680492335445"
      ]
     },
     "execution_count": 7,
     "metadata": {},
     "output_type": "execute_result"
    }
   ],
   "source": [
    "u = 30\n",
    "v = 45\n",
    "theta = 130\n",
    "\n",
    "w = np.sqrt(u**2 + v**2 - 2*u*v*np.cos(np.deg2rad(theta)))\n",
    "w"
   ]
  },
  {
   "cell_type": "markdown",
   "id": "f12a74a4",
   "metadata": {},
   "source": [
    "Recordando la ley de senos\n",
    "\n",
    "\\begin{equation}\n",
    " \\frac{\\sin(\\beta)}{v} = \\frac{\\sin(\\theta)}{w},\n",
    "\\end{equation}\n",
    "\n",
    "y despejando $\\beta$, tenemos:\n",
    "\n",
    "\\begin{equation}\n",
    " \\beta = \\sin^{-1}\\left( \\frac{v}{w} \\sin(\\theta) \\right).\n",
    "\\end{equation}"
   ]
  },
  {
   "cell_type": "code",
   "execution_count": 8,
   "id": "599a874a",
   "metadata": {},
   "outputs": [
    {
     "data": {
      "text/plain": [
       "30.328080447522268"
      ]
     },
     "execution_count": 8,
     "metadata": {},
     "output_type": "execute_result"
    }
   ],
   "source": [
    "beta = np.rad2deg(np.arcsin((v/w)*np.sin(np.deg2rad(theta))))\n",
    "beta"
   ]
  },
  {
   "cell_type": "markdown",
   "id": "2e04f684",
   "metadata": {},
   "source": [
    "### Vector unitario\n",
    "\n",
    "Es un vector sin dimensiones y con una magnitud de 1.\n",
    "* No tienen significado físico.\n",
    "* Se utilizan para describir una dirección en el espacio.\n",
    "\n",
    "${\\bf \\hat{i}}$, ${\\bf \\hat{j}}$ y ${\\bf \\hat{k}}$ se utiliza para representar los vectores que apuntan en las direcciones $x$, $y$, $z$, respectivamente.\n",
    "\n",
    "Dado un vector ${\\bf \\hat{u}}$ que se encuentra en el plano $xy$ se puede denotar en término de sus componentes como sigue:\n",
    "\n",
    "\\begin{equation}\n",
    " {\\bf \\vec{u}} = u_{x}{\\bf \\hat{i}} + u_{y}{\\bf \\hat{j}}.\n",
    "\\end{equation}\n",
    "\n",
    "Un punto que se encuentra en el plano $xy$ tiene coordenadas cartesianas $(x,y)$. Este punto se especifica por un vector de posición \n",
    "\n",
    "\\begin{equation}\n",
    " {\\bf \\vec{r}} = x{\\bf \\hat{i}} + y{\\bf \\hat{j}}.\n",
    "\\end{equation}"
   ]
  }
 ],
 "metadata": {
  "hide_input": false,
  "kernelspec": {
   "display_name": "Python 3 (ipykernel)",
   "language": "python",
   "name": "python3"
  },
  "language_info": {
   "codemirror_mode": {
    "name": "ipython",
    "version": 3
   },
   "file_extension": ".py",
   "mimetype": "text/x-python",
   "name": "python",
   "nbconvert_exporter": "python",
   "pygments_lexer": "ipython3",
   "version": "3.10.2"
  }
 },
 "nbformat": 4,
 "nbformat_minor": 5
}
