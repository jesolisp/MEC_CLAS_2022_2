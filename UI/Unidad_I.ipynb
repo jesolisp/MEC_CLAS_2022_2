{
 "cells": [
  {
   "cell_type": "markdown",
   "id": "32ffa202",
   "metadata": {},
   "source": [
    "<img src=\"logo_ENESJ.png\" width=140 height=120 />\n",
    "\n",
    "# Mecánica clásica\n",
    "##  Semestre 2022-2 \n",
    "\n",
    "### Profr. Jesús Emmanuel Solís Pérez\n",
    "### jsolisp@unam.mx\n",
    "---"
   ]
  },
  {
   "cell_type": "markdown",
   "id": "c44ca246",
   "metadata": {},
   "source": [
    "# Unidad I. Conceptos fundamentales\n",
    "**Mecánica.** Parte de la física que trata del equilibrio y del movimiento de los cuerpos sometidos a cualquier fuerza.\n",
    "\n",
    "**Mecánica clásica.** Área de la física que estudia el movimiento de los objetos. Es conocida también como *mecánica Newtoniana* o *mecánica*.\n",
    "\n",
    "El ser humano necesita realizar **mediciones** para poder describir los fenómenos naturales. Estas mediciones se asocian a una **cantidad física**, por ejemplo la *longitud* o el *peso* de un objeto.\n",
    "\n",
    "Un comité internacional estableció un conjunto de estándares para las cantidades fundamentales en 1960, el Sistema Internacional (SI)."
   ]
  },
  {
   "cell_type": "markdown",
   "id": "605134d9",
   "metadata": {},
   "source": [
    "## Cantidades físicas\n",
    "* **Longitud.** Distancia entre dos puntos en el espacio.\n",
    "* **Masa.** Fuerza de gravedad que ejerce todo lo que ocupa un lugar en el espacio (materia).\n",
    "* **Tiempo.** Dimensión conectada al espacio que se dilata o contrae dependiende de la velocidad del observador.\n",
    "* **Temperatura.** Forma en la que vibran los cuerpos.\n",
    "* **Corriente eléctrica.** Velocidad en la que viajan los electrones en un espacio definido.\n",
    "* **Intensidad luminosa.** Magnitud que mide el flujo de luz emitido por un objeto.\n",
    "* **Cantidad de sustancia.** Tiene un número de partículas equivalantes a la constante de avogadro.\n",
    "\n",
    "Las tres cantidades fundamentales en mecánica son: **masa, tiempo y longitud**.\n",
    "\n",
    "Las *cantidades deducidas* son combinaciones matemáticas de cantidades fundamentales. Por ejemplo: área, rapidez, **densidad**\n",
    "\n",
    "$$\n",
    " \\rho \\equiv \\frac{m}{V}\n",
    "$$"
   ]
  },
  {
   "cell_type": "markdown",
   "id": "55b1b400",
   "metadata": {},
   "source": [
    "## Unidades\n",
    "| **Cantidad**         | **Unidad** |\n",
    "|:--------------------:|:----------:|\n",
    "| Longitud             | metro      |\n",
    "| Masa                 | kilogramo  |\n",
    "| Tiempo               | segundo    |\n",
    "| Corriente electrica  | ampere     |\n",
    "| Temperatura          | kelvin     |\n",
    "| Intensidad luminosa  | candela    |\n",
    "| Cantidad de sustancia| mol        |\n",
    "\n",
    "| Potencia   | Prefijo | Abreviatura | Potencia  | Prefijo | Abreviatura |\n",
    "|:----------:|:-------:|:-----------:|:---------:|:-------:|:-----------:|\n",
    "| $10^{-24}$ | yocto   | y           | $10^{3}$  | kilo    | k           |\n",
    "| $10^{-21}$ | zepto   | z           | $10^{6}$  | mega    | M           |\n",
    "| $10^{-18}$ | atto   | a           | $10^{9}$  | giga    | G           |\n",
    "| $10^{-15}$ | femto   | f           | $10^{12}$  | tera    | T           |\n",
    "| $10^{-12}$ | pico   | p           | $10^{15}$  | peta    | P           |\n",
    "| $10^{-9}$  | nano   | n           | $10^{18}$  | exa    | E           |\n",
    "| $10^{-6}$ | micro   | $\\mu$           | $10^{21}$  | zetta    | Z           |\n",
    "| $10^{-3}$ | mili   | m           | $10^{24}$  | yotta    | Y           |\n",
    "| $10^{-2}$ | centi   | c           |   |     |           |\n",
    "| $10^{-1}$ | deci   | d            |   |     |           |"
   ]
  },
  {
   "cell_type": "markdown",
   "id": "136ef483",
   "metadata": {},
   "source": [
    "---\n",
    "# Actividad 1. Realice el llenado de las siguientes tablas\n",
    "\n",
    "| | Longitud (m)|\n",
    "|:------------------------------------------------------------------------:|:-:|\n",
    "| Distancia de la Tierra al quasar conocido más remoto                     |   |\n",
    "| Distancia de la Tierra a la galaxia Andrómeda                            |   |\n",
    "| Distancia del Sol a la estrella Proxima Centauri                         |   |\n",
    "| Un año luz                                                               |   |\n",
    "| Radio orbital medio de la Tierra en torno al Sol                         |   |\n",
    "| Distancia media de la Tierra a la Luna                                   |   |\n",
    "| Distancia del ecuador al Polo Norte                                      |   |\n",
    "| Radio medio de la Tierra                                                 |   |\n",
    "| Altitud típica (sobre la superficie) de un satélite que orbita la Tierra |   |\n",
    "| Longitud de un campo de futbol                                           |   |\n",
    "| Longitud de una mosca común                                              |   |\n",
    "| Tamaño de las partículas de polvo más pequeñas                           |   |\n",
    "| Diámetro de un átomo de hidrógeno                                        |   |\n",
    "| Diámetro de un núcleo atómico                                            |   |\n",
    "| Diámetro de un protón                                                    |   |\n",
    "\n",
    "| Masas aproximadas de varios objetos | Masa (kg) |\n",
    "|:-----------------------------------:|:---------:|\n",
    "| Universo visible                    |           |\n",
    "| Vía Láctea                          |           |\n",
    "| Sol                                 |           |\n",
    "| Tierra                              |           |\n",
    "| Luna                                |           |\n",
    "| Tiburón                             |           |\n",
    "| Humano                              |           |\n",
    "| Rana                                |           |\n",
    "| Mosquito                            |           |\n",
    "| Bacteria                            |           |\n",
    "| Átomo de hidrógeno                  |           |\n",
    "| Electrón                            |           |"
   ]
  },
  {
   "cell_type": "markdown",
   "id": "9cea3b28",
   "metadata": {},
   "source": [
    "---\n",
    "## Análisis dimensional\n",
    "La palabra **dimensión** denota la naturaleza física de una determinada cantidad. Por ejemplo:\n",
    "\n",
    "| Cantidad        | Área    | Volumen | Rapidez | Aceleración |\n",
    "|-----------------|---------|---------|---------|-------------|\n",
    "| Dimensiones     | $L^{2}$ | $L^{3}$ | $L/T$   | $L/T^{2}$   |\n",
    "| Unidades del SI | $m^{2}$ | $m^{3}$ | $m/s$   | $m/s^{2}$   |\n",
    "\n",
    "El **análisis dimensional** es un procedimiento que permite determinar si una expresión tiene la forma correcta. Es decir, las dimensiones en ambos lados de la expresión son las mismas.\n",
    "\n",
    "---\n",
    "\n",
    "### Ejercicio 1.\n",
    "En el examen de mecánica clásica, Juanito tiene que encontrar una ecuación que permita expresar la posición $x$ de una bicicleta en un tiempo $t$. Si la bicicleta part de $x=0$ con una aceleración constante $a$, la expresión que puede utilizar Juanito está dada como sigue:\n",
    "\n",
    "$$\n",
    " x = \\frac{1}{2}at^{2}\n",
    "$$\n",
    "\n",
    "Determine si esta expresión es válida haciendo uso del análisis dimensional."
   ]
  },
  {
   "cell_type": "markdown",
   "id": "eb554349",
   "metadata": {},
   "source": [
    "---\n",
    "### Ejercicio 2.\n",
    "Muestre que la siguiente expresión es dimensionalmente correcta\n",
    "\n",
    "$$\n",
    " v = at,\n",
    "$$\n",
    "donde $v$ representa rapidez, $a$ aceleración y $t$ tiempo."
   ]
  },
  {
   "cell_type": "markdown",
   "id": "054f958d",
   "metadata": {},
   "source": [
    "---\n",
    "### Ejercicio 3.\n",
    "La aceleración $a$ de una partícula que se mueve en un círculo de radio $r$ con una rapidez uniforme $v$ es proporcional a una potencia de $r$. Es decir, $r^n$. O bien, una potencia de $v$ dada como $v^{m}$. Determine los valores de $n$ y $m$ así como encuentre una forma simple para la ecuación de la aceleración."
   ]
  },
  {
   "cell_type": "markdown",
   "id": "63b2bea9",
   "metadata": {},
   "source": [
    "---\n",
    "## Conversión de unidades\n",
    "\n",
    "### Ejercicio 4. \n",
    "Convierta 15 in a cm, considerando que $1~ in = 2.54~ cm$.\n",
    "\n",
    "### Ejercicio 5.\n",
    "El profesor Solís viaja sobre la autopista México-Querétaro con una rapidez de $38.0~ m/s$. ¿El profesor es acredor a una multa por haber rebasado el límite de velocidad de $75.0~ mi/h$?"
   ]
  }
 ],
 "metadata": {
  "kernelspec": {
   "display_name": "Python 3 (ipykernel)",
   "language": "python",
   "name": "python3"
  },
  "language_info": {
   "codemirror_mode": {
    "name": "ipython",
    "version": 3
   },
   "file_extension": ".py",
   "mimetype": "text/x-python",
   "name": "python",
   "nbconvert_exporter": "python",
   "pygments_lexer": "ipython3",
   "version": "3.10.2"
  }
 },
 "nbformat": 4,
 "nbformat_minor": 5
}
